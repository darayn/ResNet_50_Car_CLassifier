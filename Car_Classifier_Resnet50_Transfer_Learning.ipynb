{
  "nbformat": 4,
  "nbformat_minor": 0,
  "metadata": {
    "colab": {
      "name": "Car-Classifier Resnet50 Transfer Learning.ipynb",
      "provenance": []
    },
    "kernelspec": {
      "name": "python3",
      "display_name": "Python 3"
    },
    "accelerator": "GPU"
  },
  "cells": [
    {
      "cell_type": "code",
      "metadata": {
        "id": "-4Ex_ksVuANP",
        "colab_type": "code",
        "colab": {
          "base_uri": "https://localhost:8080/",
          "height": 122
        },
        "outputId": "8781097d-70c4-456b-bfdf-64d377080e4c"
      },
      "source": [
        "from google.colab import drive\n",
        "drive.mount('/content/gdrive')\n"
      ],
      "execution_count": 1,
      "outputs": [
        {
          "output_type": "stream",
          "text": [
            "Go to this URL in a browser: https://accounts.google.com/o/oauth2/auth?client_id=947318989803-6bn6qk8qdgf4n4g3pfee6491hc0brc4i.apps.googleusercontent.com&redirect_uri=urn%3aietf%3awg%3aoauth%3a2.0%3aoob&response_type=code&scope=email%20https%3a%2f%2fwww.googleapis.com%2fauth%2fdocs.test%20https%3a%2f%2fwww.googleapis.com%2fauth%2fdrive%20https%3a%2f%2fwww.googleapis.com%2fauth%2fdrive.photos.readonly%20https%3a%2f%2fwww.googleapis.com%2fauth%2fpeopleapi.readonly\n",
            "\n",
            "Enter your authorization code:\n",
            "··········\n",
            "Mounted at /content/gdrive\n"
          ],
          "name": "stdout"
        }
      ]
    },
    {
      "cell_type": "code",
      "metadata": {
        "id": "As0YwgVGu0i5",
        "colab_type": "code",
        "colab": {
          "base_uri": "https://localhost:8080/",
          "height": 1000
        },
        "outputId": "8832e5a1-c941-453c-c8e9-0ed71f657ad9"
      },
      "source": [
        "!unzip gdrive/\"My Drive\"/Datasets.zip"
      ],
      "execution_count": 2,
      "outputs": [
        {
          "output_type": "stream",
          "text": [
            "Archive:  gdrive/My Drive/Datasets.zip\n",
            "   creating: Datasets/Test/\n",
            "   creating: Datasets/Test/audi/\n",
            "  inflating: Datasets/Test/audi/21.jpg  \n",
            "  inflating: Datasets/Test/audi/22.jpg  \n",
            "  inflating: Datasets/Test/audi/23.jpg  \n",
            "  inflating: Datasets/Test/audi/24.jpg  \n",
            "  inflating: Datasets/Test/audi/25.jpg  \n",
            "  inflating: Datasets/Test/audi/26.jpg  \n",
            "  inflating: Datasets/Test/audi/27.jpg  \n",
            " extracting: Datasets/Test/audi/28.jpg  \n",
            "  inflating: Datasets/Test/audi/29.jpg  \n",
            "   creating: Datasets/Test/lamborghini/\n",
            "  inflating: Datasets/Test/lamborghini/1.jpg  \n",
            "  inflating: Datasets/Test/lamborghini/10.jpg  \n",
            "  inflating: Datasets/Test/lamborghini/11.jpg  \n",
            "  inflating: Datasets/Test/lamborghini/12.jpg  \n",
            "  inflating: Datasets/Test/lamborghini/13.jpg  \n",
            "  inflating: Datasets/Test/lamborghini/14.jpg  \n",
            "  inflating: Datasets/Test/lamborghini/15.jpg  \n",
            "  inflating: Datasets/Test/lamborghini/16.jpg  \n",
            "  inflating: Datasets/Test/lamborghini/17.jpg  \n",
            "  inflating: Datasets/Test/lamborghini/18.jpg  \n",
            "  inflating: Datasets/Test/lamborghini/19.jpg  \n",
            "  inflating: Datasets/Test/lamborghini/2.jpg  \n",
            "  inflating: Datasets/Test/lamborghini/20.jog.jpg  \n",
            "  inflating: Datasets/Test/lamborghini/21.jpg  \n",
            "  inflating: Datasets/Test/lamborghini/22.jpg  \n",
            "  inflating: Datasets/Test/lamborghini/23.jpg  \n",
            "  inflating: Datasets/Test/lamborghini/24.jpg  \n",
            "  inflating: Datasets/Test/lamborghini/25.jpg  \n",
            "  inflating: Datasets/Test/lamborghini/26.jpg  \n",
            "  inflating: Datasets/Test/lamborghini/27.jpg  \n",
            "  inflating: Datasets/Test/lamborghini/28.jpg  \n",
            "  inflating: Datasets/Test/lamborghini/29.jpg  \n",
            "  inflating: Datasets/Test/lamborghini/3.jpg  \n",
            "  inflating: Datasets/Test/lamborghini/30.jpg  \n",
            "  inflating: Datasets/Test/lamborghini/4.jpg  \n",
            "  inflating: Datasets/Test/lamborghini/5.jpg  \n",
            "  inflating: Datasets/Test/lamborghini/6.jpg  \n",
            "  inflating: Datasets/Test/lamborghini/7.jpg  \n",
            "  inflating: Datasets/Test/lamborghini/8.jpg  \n",
            "  inflating: Datasets/Test/lamborghini/9.jpg  \n",
            "   creating: Datasets/Test/mercedes/\n",
            "  inflating: Datasets/Test/mercedes/27.jpg  \n",
            "  inflating: Datasets/Test/mercedes/28.jpg  \n",
            "  inflating: Datasets/Test/mercedes/29.jpg  \n",
            "  inflating: Datasets/Test/mercedes/30.jpg  \n",
            "  inflating: Datasets/Test/mercedes/31.jpg  \n",
            "  inflating: Datasets/Test/mercedes/32.jpg  \n",
            "  inflating: Datasets/Test/mercedes/33.jpg  \n",
            "  inflating: Datasets/Test/mercedes/34.jpg  \n",
            "  inflating: Datasets/Test/mercedes/35.jpg  \n",
            "  inflating: Datasets/Test/mercedes/36.jpg  \n",
            "  inflating: Datasets/Test/mercedes/37.jpg  \n",
            "  inflating: Datasets/Test/mercedes/38.jpg  \n",
            "  inflating: Datasets/Test/mercedes/39.jpg  \n",
            "  inflating: Datasets/Test/mercedes/40.jpg  \n",
            "  inflating: Datasets/Test/mercedes/41.jpg  \n",
            "  inflating: Datasets/Test/mercedes/42.jpg  \n",
            "  inflating: Datasets/Test/mercedes/43.jpg  \n",
            "  inflating: Datasets/Test/mercedes/44.jpg  \n",
            "  inflating: Datasets/Test/mercedes/45.jpg  \n",
            "   creating: Datasets/Train/\n",
            "   creating: Datasets/Train/audi/\n",
            "  inflating: Datasets/Train/audi/1.jpg  \n",
            "  inflating: Datasets/Train/audi/10.jpg  \n",
            "  inflating: Datasets/Train/audi/11.jpg  \n",
            "  inflating: Datasets/Train/audi/12.jpg  \n",
            "  inflating: Datasets/Train/audi/13.jpg  \n",
            "  inflating: Datasets/Train/audi/14.jpg  \n",
            "  inflating: Datasets/Train/audi/15.jpg  \n",
            "  inflating: Datasets/Train/audi/16.jpg  \n",
            "  inflating: Datasets/Train/audi/17.jpg  \n",
            "  inflating: Datasets/Train/audi/18.jpg  \n",
            "  inflating: Datasets/Train/audi/19.jpg  \n",
            "  inflating: Datasets/Train/audi/2.jpg  \n",
            "  inflating: Datasets/Train/audi/20.jpg  \n",
            "  inflating: Datasets/Train/audi/3.jpg  \n",
            "  inflating: Datasets/Train/audi/4.jpg  \n",
            "  inflating: Datasets/Train/audi/5.jpg  \n",
            "  inflating: Datasets/Train/audi/6.jpg  \n",
            "  inflating: Datasets/Train/audi/7.jpg  \n",
            "  inflating: Datasets/Train/audi/8.jpg  \n",
            "  inflating: Datasets/Train/audi/9.jpg  \n",
            "   creating: Datasets/Train/lamborghini/\n",
            "  inflating: Datasets/Train/lamborghini/1.jpg  \n",
            "  inflating: Datasets/Train/lamborghini/10.jpg  \n",
            "  inflating: Datasets/Train/lamborghini/11.jpg  \n",
            "  inflating: Datasets/Train/lamborghini/12.jpg  \n",
            "  inflating: Datasets/Train/lamborghini/13.jpg  \n",
            "  inflating: Datasets/Train/lamborghini/14.jpg  \n",
            "  inflating: Datasets/Train/lamborghini/15.jpg  \n",
            "  inflating: Datasets/Train/lamborghini/16.jpg  \n",
            "  inflating: Datasets/Train/lamborghini/17.jpg  \n",
            "  inflating: Datasets/Train/lamborghini/18.jpg  \n",
            "  inflating: Datasets/Train/lamborghini/19.jpg  \n",
            "  inflating: Datasets/Train/lamborghini/2.jpg  \n",
            "  inflating: Datasets/Train/lamborghini/3.jpg  \n",
            "  inflating: Datasets/Train/lamborghini/4.jpg  \n",
            "  inflating: Datasets/Train/lamborghini/5.jpg  \n",
            "  inflating: Datasets/Train/lamborghini/6.jpg  \n",
            "  inflating: Datasets/Train/lamborghini/7.jpg  \n",
            "  inflating: Datasets/Train/lamborghini/8.jpg  \n",
            "  inflating: Datasets/Train/lamborghini/9.jpg  \n",
            "   creating: Datasets/Train/mercedes/\n",
            "  inflating: Datasets/Train/mercedes/1.jpg  \n",
            "  inflating: Datasets/Train/mercedes/10.jpg  \n",
            "  inflating: Datasets/Train/mercedes/11.jpg  \n",
            "  inflating: Datasets/Train/mercedes/12.jpg  \n",
            "  inflating: Datasets/Train/mercedes/13.jpg  \n",
            "  inflating: Datasets/Train/mercedes/14.jpg  \n",
            "  inflating: Datasets/Train/mercedes/15.jpg  \n",
            "  inflating: Datasets/Train/mercedes/16.jpg  \n",
            "  inflating: Datasets/Train/mercedes/17.jpg  \n",
            "  inflating: Datasets/Train/mercedes/18.jpg  \n",
            "  inflating: Datasets/Train/mercedes/19.jpg  \n",
            "  inflating: Datasets/Train/mercedes/2.jpg  \n",
            "  inflating: Datasets/Train/mercedes/20.jpg  \n",
            "  inflating: Datasets/Train/mercedes/21.jpg  \n",
            "  inflating: Datasets/Train/mercedes/22.jpg  \n",
            "  inflating: Datasets/Train/mercedes/23.jpg  \n",
            "  inflating: Datasets/Train/mercedes/24.jpg  \n",
            "  inflating: Datasets/Train/mercedes/25.jpg  \n",
            " extracting: Datasets/Train/mercedes/3.jpg  \n",
            " extracting: Datasets/Train/mercedes/4.jpg  \n",
            "  inflating: Datasets/Train/mercedes/5.jpg  \n",
            "  inflating: Datasets/Train/mercedes/6.jpg  \n",
            "  inflating: Datasets/Train/mercedes/7.jpg  \n",
            "  inflating: Datasets/Train/mercedes/8.jpf.jpg  \n",
            "  inflating: Datasets/Train/mercedes/9.jpg  \n"
          ],
          "name": "stdout"
        }
      ]
    },
    {
      "cell_type": "code",
      "metadata": {
        "id": "cIbqaGl9vnyP",
        "colab_type": "code",
        "colab": {}
      },
      "source": [
        "from tensorflow.keras.layers import Input ,Lambda, Dense, Flatten\n",
        "from tensorflow.keras.models import Model\n",
        "from tensorflow.keras.applications.resnet50 import ResNet50,preprocess_input\n",
        "from tensorflow.keras.preprocessing import image\n",
        "from tensorflow.keras.preprocessing.image import ImageDataGenerator,load_img\n",
        "from tensorflow.keras.models import Sequential\n",
        "import numpy as np\n",
        "from glob import glob\n",
        "import matplotlib.pyplot as plt"
      ],
      "execution_count": 3,
      "outputs": []
    },
    {
      "cell_type": "code",
      "metadata": {
        "id": "NIAKse0Kw7bH",
        "colab_type": "code",
        "colab": {}
      },
      "source": [
        "IMAGE_SIZE = [224,224]\n",
        "\n",
        "train_path = '/content/Datasets/Train'\n",
        "valid_path = '/content/Datasets/Test'"
      ],
      "execution_count": 4,
      "outputs": []
    },
    {
      "cell_type": "code",
      "metadata": {
        "id": "a1Wki0wSxHc3",
        "colab_type": "code",
        "colab": {
          "base_uri": "https://localhost:8080/",
          "height": 71
        },
        "outputId": "a0f14371-b9c8-40ea-9643-ac30d5cd17d4"
      },
      "source": [
        "resnet = ResNet50(input_shape=IMAGE_SIZE +[3],weights=\"imagenet\",include_top=False)"
      ],
      "execution_count": 5,
      "outputs": [
        {
          "output_type": "stream",
          "text": [
            "Downloading data from https://storage.googleapis.com/tensorflow/keras-applications/resnet/resnet50_weights_tf_dim_ordering_tf_kernels_notop.h5\n",
            "94773248/94765736 [==============================] - 1s 0us/step\n"
          ],
          "name": "stdout"
        }
      ]
    },
    {
      "cell_type": "code",
      "metadata": {
        "id": "HJndXfOPxL9z",
        "colab_type": "code",
        "colab": {}
      },
      "source": [
        "for layers in resnet.layers:\n",
        "    layers.trainable = False"
      ],
      "execution_count": 6,
      "outputs": []
    },
    {
      "cell_type": "code",
      "metadata": {
        "id": "WFwXE5nfxQ8w",
        "colab_type": "code",
        "colab": {}
      },
      "source": [
        "folders = glob('Datasets/Train/*')"
      ],
      "execution_count": 7,
      "outputs": []
    },
    {
      "cell_type": "code",
      "metadata": {
        "id": "P_SXRs9NxTLY",
        "colab_type": "code",
        "colab": {}
      },
      "source": [
        "X = Flatten()(resnet.output)\n"
      ],
      "execution_count": 8,
      "outputs": []
    },
    {
      "cell_type": "code",
      "metadata": {
        "id": "iRSN1DxRxW0H",
        "colab_type": "code",
        "colab": {}
      },
      "source": [
        "prediction = Dense(len(folders),activation='softmax')(X)\n",
        "\n",
        "model = Model(inputs = resnet.input, outputs = prediction )"
      ],
      "execution_count": 9,
      "outputs": []
    },
    {
      "cell_type": "code",
      "metadata": {
        "id": "MQQAm9tGxZ4e",
        "colab_type": "code",
        "colab": {
          "base_uri": "https://localhost:8080/",
          "height": 1000
        },
        "outputId": "00093897-2112-4d86-f1db-26ecdeab3f3d"
      },
      "source": [
        "model.summary()"
      ],
      "execution_count": 10,
      "outputs": [
        {
          "output_type": "stream",
          "text": [
            "Model: \"model\"\n",
            "__________________________________________________________________________________________________\n",
            "Layer (type)                    Output Shape         Param #     Connected to                     \n",
            "==================================================================================================\n",
            "input_1 (InputLayer)            [(None, 224, 224, 3) 0                                            \n",
            "__________________________________________________________________________________________________\n",
            "conv1_pad (ZeroPadding2D)       (None, 230, 230, 3)  0           input_1[0][0]                    \n",
            "__________________________________________________________________________________________________\n",
            "conv1_conv (Conv2D)             (None, 112, 112, 64) 9472        conv1_pad[0][0]                  \n",
            "__________________________________________________________________________________________________\n",
            "conv1_bn (BatchNormalization)   (None, 112, 112, 64) 256         conv1_conv[0][0]                 \n",
            "__________________________________________________________________________________________________\n",
            "conv1_relu (Activation)         (None, 112, 112, 64) 0           conv1_bn[0][0]                   \n",
            "__________________________________________________________________________________________________\n",
            "pool1_pad (ZeroPadding2D)       (None, 114, 114, 64) 0           conv1_relu[0][0]                 \n",
            "__________________________________________________________________________________________________\n",
            "pool1_pool (MaxPooling2D)       (None, 56, 56, 64)   0           pool1_pad[0][0]                  \n",
            "__________________________________________________________________________________________________\n",
            "conv2_block1_1_conv (Conv2D)    (None, 56, 56, 64)   4160        pool1_pool[0][0]                 \n",
            "__________________________________________________________________________________________________\n",
            "conv2_block1_1_bn (BatchNormali (None, 56, 56, 64)   256         conv2_block1_1_conv[0][0]        \n",
            "__________________________________________________________________________________________________\n",
            "conv2_block1_1_relu (Activation (None, 56, 56, 64)   0           conv2_block1_1_bn[0][0]          \n",
            "__________________________________________________________________________________________________\n",
            "conv2_block1_2_conv (Conv2D)    (None, 56, 56, 64)   36928       conv2_block1_1_relu[0][0]        \n",
            "__________________________________________________________________________________________________\n",
            "conv2_block1_2_bn (BatchNormali (None, 56, 56, 64)   256         conv2_block1_2_conv[0][0]        \n",
            "__________________________________________________________________________________________________\n",
            "conv2_block1_2_relu (Activation (None, 56, 56, 64)   0           conv2_block1_2_bn[0][0]          \n",
            "__________________________________________________________________________________________________\n",
            "conv2_block1_0_conv (Conv2D)    (None, 56, 56, 256)  16640       pool1_pool[0][0]                 \n",
            "__________________________________________________________________________________________________\n",
            "conv2_block1_3_conv (Conv2D)    (None, 56, 56, 256)  16640       conv2_block1_2_relu[0][0]        \n",
            "__________________________________________________________________________________________________\n",
            "conv2_block1_0_bn (BatchNormali (None, 56, 56, 256)  1024        conv2_block1_0_conv[0][0]        \n",
            "__________________________________________________________________________________________________\n",
            "conv2_block1_3_bn (BatchNormali (None, 56, 56, 256)  1024        conv2_block1_3_conv[0][0]        \n",
            "__________________________________________________________________________________________________\n",
            "conv2_block1_add (Add)          (None, 56, 56, 256)  0           conv2_block1_0_bn[0][0]          \n",
            "                                                                 conv2_block1_3_bn[0][0]          \n",
            "__________________________________________________________________________________________________\n",
            "conv2_block1_out (Activation)   (None, 56, 56, 256)  0           conv2_block1_add[0][0]           \n",
            "__________________________________________________________________________________________________\n",
            "conv2_block2_1_conv (Conv2D)    (None, 56, 56, 64)   16448       conv2_block1_out[0][0]           \n",
            "__________________________________________________________________________________________________\n",
            "conv2_block2_1_bn (BatchNormali (None, 56, 56, 64)   256         conv2_block2_1_conv[0][0]        \n",
            "__________________________________________________________________________________________________\n",
            "conv2_block2_1_relu (Activation (None, 56, 56, 64)   0           conv2_block2_1_bn[0][0]          \n",
            "__________________________________________________________________________________________________\n",
            "conv2_block2_2_conv (Conv2D)    (None, 56, 56, 64)   36928       conv2_block2_1_relu[0][0]        \n",
            "__________________________________________________________________________________________________\n",
            "conv2_block2_2_bn (BatchNormali (None, 56, 56, 64)   256         conv2_block2_2_conv[0][0]        \n",
            "__________________________________________________________________________________________________\n",
            "conv2_block2_2_relu (Activation (None, 56, 56, 64)   0           conv2_block2_2_bn[0][0]          \n",
            "__________________________________________________________________________________________________\n",
            "conv2_block2_3_conv (Conv2D)    (None, 56, 56, 256)  16640       conv2_block2_2_relu[0][0]        \n",
            "__________________________________________________________________________________________________\n",
            "conv2_block2_3_bn (BatchNormali (None, 56, 56, 256)  1024        conv2_block2_3_conv[0][0]        \n",
            "__________________________________________________________________________________________________\n",
            "conv2_block2_add (Add)          (None, 56, 56, 256)  0           conv2_block1_out[0][0]           \n",
            "                                                                 conv2_block2_3_bn[0][0]          \n",
            "__________________________________________________________________________________________________\n",
            "conv2_block2_out (Activation)   (None, 56, 56, 256)  0           conv2_block2_add[0][0]           \n",
            "__________________________________________________________________________________________________\n",
            "conv2_block3_1_conv (Conv2D)    (None, 56, 56, 64)   16448       conv2_block2_out[0][0]           \n",
            "__________________________________________________________________________________________________\n",
            "conv2_block3_1_bn (BatchNormali (None, 56, 56, 64)   256         conv2_block3_1_conv[0][0]        \n",
            "__________________________________________________________________________________________________\n",
            "conv2_block3_1_relu (Activation (None, 56, 56, 64)   0           conv2_block3_1_bn[0][0]          \n",
            "__________________________________________________________________________________________________\n",
            "conv2_block3_2_conv (Conv2D)    (None, 56, 56, 64)   36928       conv2_block3_1_relu[0][0]        \n",
            "__________________________________________________________________________________________________\n",
            "conv2_block3_2_bn (BatchNormali (None, 56, 56, 64)   256         conv2_block3_2_conv[0][0]        \n",
            "__________________________________________________________________________________________________\n",
            "conv2_block3_2_relu (Activation (None, 56, 56, 64)   0           conv2_block3_2_bn[0][0]          \n",
            "__________________________________________________________________________________________________\n",
            "conv2_block3_3_conv (Conv2D)    (None, 56, 56, 256)  16640       conv2_block3_2_relu[0][0]        \n",
            "__________________________________________________________________________________________________\n",
            "conv2_block3_3_bn (BatchNormali (None, 56, 56, 256)  1024        conv2_block3_3_conv[0][0]        \n",
            "__________________________________________________________________________________________________\n",
            "conv2_block3_add (Add)          (None, 56, 56, 256)  0           conv2_block2_out[0][0]           \n",
            "                                                                 conv2_block3_3_bn[0][0]          \n",
            "__________________________________________________________________________________________________\n",
            "conv2_block3_out (Activation)   (None, 56, 56, 256)  0           conv2_block3_add[0][0]           \n",
            "__________________________________________________________________________________________________\n",
            "conv3_block1_1_conv (Conv2D)    (None, 28, 28, 128)  32896       conv2_block3_out[0][0]           \n",
            "__________________________________________________________________________________________________\n",
            "conv3_block1_1_bn (BatchNormali (None, 28, 28, 128)  512         conv3_block1_1_conv[0][0]        \n",
            "__________________________________________________________________________________________________\n",
            "conv3_block1_1_relu (Activation (None, 28, 28, 128)  0           conv3_block1_1_bn[0][0]          \n",
            "__________________________________________________________________________________________________\n",
            "conv3_block1_2_conv (Conv2D)    (None, 28, 28, 128)  147584      conv3_block1_1_relu[0][0]        \n",
            "__________________________________________________________________________________________________\n",
            "conv3_block1_2_bn (BatchNormali (None, 28, 28, 128)  512         conv3_block1_2_conv[0][0]        \n",
            "__________________________________________________________________________________________________\n",
            "conv3_block1_2_relu (Activation (None, 28, 28, 128)  0           conv3_block1_2_bn[0][0]          \n",
            "__________________________________________________________________________________________________\n",
            "conv3_block1_0_conv (Conv2D)    (None, 28, 28, 512)  131584      conv2_block3_out[0][0]           \n",
            "__________________________________________________________________________________________________\n",
            "conv3_block1_3_conv (Conv2D)    (None, 28, 28, 512)  66048       conv3_block1_2_relu[0][0]        \n",
            "__________________________________________________________________________________________________\n",
            "conv3_block1_0_bn (BatchNormali (None, 28, 28, 512)  2048        conv3_block1_0_conv[0][0]        \n",
            "__________________________________________________________________________________________________\n",
            "conv3_block1_3_bn (BatchNormali (None, 28, 28, 512)  2048        conv3_block1_3_conv[0][0]        \n",
            "__________________________________________________________________________________________________\n",
            "conv3_block1_add (Add)          (None, 28, 28, 512)  0           conv3_block1_0_bn[0][0]          \n",
            "                                                                 conv3_block1_3_bn[0][0]          \n",
            "__________________________________________________________________________________________________\n",
            "conv3_block1_out (Activation)   (None, 28, 28, 512)  0           conv3_block1_add[0][0]           \n",
            "__________________________________________________________________________________________________\n",
            "conv3_block2_1_conv (Conv2D)    (None, 28, 28, 128)  65664       conv3_block1_out[0][0]           \n",
            "__________________________________________________________________________________________________\n",
            "conv3_block2_1_bn (BatchNormali (None, 28, 28, 128)  512         conv3_block2_1_conv[0][0]        \n",
            "__________________________________________________________________________________________________\n",
            "conv3_block2_1_relu (Activation (None, 28, 28, 128)  0           conv3_block2_1_bn[0][0]          \n",
            "__________________________________________________________________________________________________\n",
            "conv3_block2_2_conv (Conv2D)    (None, 28, 28, 128)  147584      conv3_block2_1_relu[0][0]        \n",
            "__________________________________________________________________________________________________\n",
            "conv3_block2_2_bn (BatchNormali (None, 28, 28, 128)  512         conv3_block2_2_conv[0][0]        \n",
            "__________________________________________________________________________________________________\n",
            "conv3_block2_2_relu (Activation (None, 28, 28, 128)  0           conv3_block2_2_bn[0][0]          \n",
            "__________________________________________________________________________________________________\n",
            "conv3_block2_3_conv (Conv2D)    (None, 28, 28, 512)  66048       conv3_block2_2_relu[0][0]        \n",
            "__________________________________________________________________________________________________\n",
            "conv3_block2_3_bn (BatchNormali (None, 28, 28, 512)  2048        conv3_block2_3_conv[0][0]        \n",
            "__________________________________________________________________________________________________\n",
            "conv3_block2_add (Add)          (None, 28, 28, 512)  0           conv3_block1_out[0][0]           \n",
            "                                                                 conv3_block2_3_bn[0][0]          \n",
            "__________________________________________________________________________________________________\n",
            "conv3_block2_out (Activation)   (None, 28, 28, 512)  0           conv3_block2_add[0][0]           \n",
            "__________________________________________________________________________________________________\n",
            "conv3_block3_1_conv (Conv2D)    (None, 28, 28, 128)  65664       conv3_block2_out[0][0]           \n",
            "__________________________________________________________________________________________________\n",
            "conv3_block3_1_bn (BatchNormali (None, 28, 28, 128)  512         conv3_block3_1_conv[0][0]        \n",
            "__________________________________________________________________________________________________\n",
            "conv3_block3_1_relu (Activation (None, 28, 28, 128)  0           conv3_block3_1_bn[0][0]          \n",
            "__________________________________________________________________________________________________\n",
            "conv3_block3_2_conv (Conv2D)    (None, 28, 28, 128)  147584      conv3_block3_1_relu[0][0]        \n",
            "__________________________________________________________________________________________________\n",
            "conv3_block3_2_bn (BatchNormali (None, 28, 28, 128)  512         conv3_block3_2_conv[0][0]        \n",
            "__________________________________________________________________________________________________\n",
            "conv3_block3_2_relu (Activation (None, 28, 28, 128)  0           conv3_block3_2_bn[0][0]          \n",
            "__________________________________________________________________________________________________\n",
            "conv3_block3_3_conv (Conv2D)    (None, 28, 28, 512)  66048       conv3_block3_2_relu[0][0]        \n",
            "__________________________________________________________________________________________________\n",
            "conv3_block3_3_bn (BatchNormali (None, 28, 28, 512)  2048        conv3_block3_3_conv[0][0]        \n",
            "__________________________________________________________________________________________________\n",
            "conv3_block3_add (Add)          (None, 28, 28, 512)  0           conv3_block2_out[0][0]           \n",
            "                                                                 conv3_block3_3_bn[0][0]          \n",
            "__________________________________________________________________________________________________\n",
            "conv3_block3_out (Activation)   (None, 28, 28, 512)  0           conv3_block3_add[0][0]           \n",
            "__________________________________________________________________________________________________\n",
            "conv3_block4_1_conv (Conv2D)    (None, 28, 28, 128)  65664       conv3_block3_out[0][0]           \n",
            "__________________________________________________________________________________________________\n",
            "conv3_block4_1_bn (BatchNormali (None, 28, 28, 128)  512         conv3_block4_1_conv[0][0]        \n",
            "__________________________________________________________________________________________________\n",
            "conv3_block4_1_relu (Activation (None, 28, 28, 128)  0           conv3_block4_1_bn[0][0]          \n",
            "__________________________________________________________________________________________________\n",
            "conv3_block4_2_conv (Conv2D)    (None, 28, 28, 128)  147584      conv3_block4_1_relu[0][0]        \n",
            "__________________________________________________________________________________________________\n",
            "conv3_block4_2_bn (BatchNormali (None, 28, 28, 128)  512         conv3_block4_2_conv[0][0]        \n",
            "__________________________________________________________________________________________________\n",
            "conv3_block4_2_relu (Activation (None, 28, 28, 128)  0           conv3_block4_2_bn[0][0]          \n",
            "__________________________________________________________________________________________________\n",
            "conv3_block4_3_conv (Conv2D)    (None, 28, 28, 512)  66048       conv3_block4_2_relu[0][0]        \n",
            "__________________________________________________________________________________________________\n",
            "conv3_block4_3_bn (BatchNormali (None, 28, 28, 512)  2048        conv3_block4_3_conv[0][0]        \n",
            "__________________________________________________________________________________________________\n",
            "conv3_block4_add (Add)          (None, 28, 28, 512)  0           conv3_block3_out[0][0]           \n",
            "                                                                 conv3_block4_3_bn[0][0]          \n",
            "__________________________________________________________________________________________________\n",
            "conv3_block4_out (Activation)   (None, 28, 28, 512)  0           conv3_block4_add[0][0]           \n",
            "__________________________________________________________________________________________________\n",
            "conv4_block1_1_conv (Conv2D)    (None, 14, 14, 256)  131328      conv3_block4_out[0][0]           \n",
            "__________________________________________________________________________________________________\n",
            "conv4_block1_1_bn (BatchNormali (None, 14, 14, 256)  1024        conv4_block1_1_conv[0][0]        \n",
            "__________________________________________________________________________________________________\n",
            "conv4_block1_1_relu (Activation (None, 14, 14, 256)  0           conv4_block1_1_bn[0][0]          \n",
            "__________________________________________________________________________________________________\n",
            "conv4_block1_2_conv (Conv2D)    (None, 14, 14, 256)  590080      conv4_block1_1_relu[0][0]        \n",
            "__________________________________________________________________________________________________\n",
            "conv4_block1_2_bn (BatchNormali (None, 14, 14, 256)  1024        conv4_block1_2_conv[0][0]        \n",
            "__________________________________________________________________________________________________\n",
            "conv4_block1_2_relu (Activation (None, 14, 14, 256)  0           conv4_block1_2_bn[0][0]          \n",
            "__________________________________________________________________________________________________\n",
            "conv4_block1_0_conv (Conv2D)    (None, 14, 14, 1024) 525312      conv3_block4_out[0][0]           \n",
            "__________________________________________________________________________________________________\n",
            "conv4_block1_3_conv (Conv2D)    (None, 14, 14, 1024) 263168      conv4_block1_2_relu[0][0]        \n",
            "__________________________________________________________________________________________________\n",
            "conv4_block1_0_bn (BatchNormali (None, 14, 14, 1024) 4096        conv4_block1_0_conv[0][0]        \n",
            "__________________________________________________________________________________________________\n",
            "conv4_block1_3_bn (BatchNormali (None, 14, 14, 1024) 4096        conv4_block1_3_conv[0][0]        \n",
            "__________________________________________________________________________________________________\n",
            "conv4_block1_add (Add)          (None, 14, 14, 1024) 0           conv4_block1_0_bn[0][0]          \n",
            "                                                                 conv4_block1_3_bn[0][0]          \n",
            "__________________________________________________________________________________________________\n",
            "conv4_block1_out (Activation)   (None, 14, 14, 1024) 0           conv4_block1_add[0][0]           \n",
            "__________________________________________________________________________________________________\n",
            "conv4_block2_1_conv (Conv2D)    (None, 14, 14, 256)  262400      conv4_block1_out[0][0]           \n",
            "__________________________________________________________________________________________________\n",
            "conv4_block2_1_bn (BatchNormali (None, 14, 14, 256)  1024        conv4_block2_1_conv[0][0]        \n",
            "__________________________________________________________________________________________________\n",
            "conv4_block2_1_relu (Activation (None, 14, 14, 256)  0           conv4_block2_1_bn[0][0]          \n",
            "__________________________________________________________________________________________________\n",
            "conv4_block2_2_conv (Conv2D)    (None, 14, 14, 256)  590080      conv4_block2_1_relu[0][0]        \n",
            "__________________________________________________________________________________________________\n",
            "conv4_block2_2_bn (BatchNormali (None, 14, 14, 256)  1024        conv4_block2_2_conv[0][0]        \n",
            "__________________________________________________________________________________________________\n",
            "conv4_block2_2_relu (Activation (None, 14, 14, 256)  0           conv4_block2_2_bn[0][0]          \n",
            "__________________________________________________________________________________________________\n",
            "conv4_block2_3_conv (Conv2D)    (None, 14, 14, 1024) 263168      conv4_block2_2_relu[0][0]        \n",
            "__________________________________________________________________________________________________\n",
            "conv4_block2_3_bn (BatchNormali (None, 14, 14, 1024) 4096        conv4_block2_3_conv[0][0]        \n",
            "__________________________________________________________________________________________________\n",
            "conv4_block2_add (Add)          (None, 14, 14, 1024) 0           conv4_block1_out[0][0]           \n",
            "                                                                 conv4_block2_3_bn[0][0]          \n",
            "__________________________________________________________________________________________________\n",
            "conv4_block2_out (Activation)   (None, 14, 14, 1024) 0           conv4_block2_add[0][0]           \n",
            "__________________________________________________________________________________________________\n",
            "conv4_block3_1_conv (Conv2D)    (None, 14, 14, 256)  262400      conv4_block2_out[0][0]           \n",
            "__________________________________________________________________________________________________\n",
            "conv4_block3_1_bn (BatchNormali (None, 14, 14, 256)  1024        conv4_block3_1_conv[0][0]        \n",
            "__________________________________________________________________________________________________\n",
            "conv4_block3_1_relu (Activation (None, 14, 14, 256)  0           conv4_block3_1_bn[0][0]          \n",
            "__________________________________________________________________________________________________\n",
            "conv4_block3_2_conv (Conv2D)    (None, 14, 14, 256)  590080      conv4_block3_1_relu[0][0]        \n",
            "__________________________________________________________________________________________________\n",
            "conv4_block3_2_bn (BatchNormali (None, 14, 14, 256)  1024        conv4_block3_2_conv[0][0]        \n",
            "__________________________________________________________________________________________________\n",
            "conv4_block3_2_relu (Activation (None, 14, 14, 256)  0           conv4_block3_2_bn[0][0]          \n",
            "__________________________________________________________________________________________________\n",
            "conv4_block3_3_conv (Conv2D)    (None, 14, 14, 1024) 263168      conv4_block3_2_relu[0][0]        \n",
            "__________________________________________________________________________________________________\n",
            "conv4_block3_3_bn (BatchNormali (None, 14, 14, 1024) 4096        conv4_block3_3_conv[0][0]        \n",
            "__________________________________________________________________________________________________\n",
            "conv4_block3_add (Add)          (None, 14, 14, 1024) 0           conv4_block2_out[0][0]           \n",
            "                                                                 conv4_block3_3_bn[0][0]          \n",
            "__________________________________________________________________________________________________\n",
            "conv4_block3_out (Activation)   (None, 14, 14, 1024) 0           conv4_block3_add[0][0]           \n",
            "__________________________________________________________________________________________________\n",
            "conv4_block4_1_conv (Conv2D)    (None, 14, 14, 256)  262400      conv4_block3_out[0][0]           \n",
            "__________________________________________________________________________________________________\n",
            "conv4_block4_1_bn (BatchNormali (None, 14, 14, 256)  1024        conv4_block4_1_conv[0][0]        \n",
            "__________________________________________________________________________________________________\n",
            "conv4_block4_1_relu (Activation (None, 14, 14, 256)  0           conv4_block4_1_bn[0][0]          \n",
            "__________________________________________________________________________________________________\n",
            "conv4_block4_2_conv (Conv2D)    (None, 14, 14, 256)  590080      conv4_block4_1_relu[0][0]        \n",
            "__________________________________________________________________________________________________\n",
            "conv4_block4_2_bn (BatchNormali (None, 14, 14, 256)  1024        conv4_block4_2_conv[0][0]        \n",
            "__________________________________________________________________________________________________\n",
            "conv4_block4_2_relu (Activation (None, 14, 14, 256)  0           conv4_block4_2_bn[0][0]          \n",
            "__________________________________________________________________________________________________\n",
            "conv4_block4_3_conv (Conv2D)    (None, 14, 14, 1024) 263168      conv4_block4_2_relu[0][0]        \n",
            "__________________________________________________________________________________________________\n",
            "conv4_block4_3_bn (BatchNormali (None, 14, 14, 1024) 4096        conv4_block4_3_conv[0][0]        \n",
            "__________________________________________________________________________________________________\n",
            "conv4_block4_add (Add)          (None, 14, 14, 1024) 0           conv4_block3_out[0][0]           \n",
            "                                                                 conv4_block4_3_bn[0][0]          \n",
            "__________________________________________________________________________________________________\n",
            "conv4_block4_out (Activation)   (None, 14, 14, 1024) 0           conv4_block4_add[0][0]           \n",
            "__________________________________________________________________________________________________\n",
            "conv4_block5_1_conv (Conv2D)    (None, 14, 14, 256)  262400      conv4_block4_out[0][0]           \n",
            "__________________________________________________________________________________________________\n",
            "conv4_block5_1_bn (BatchNormali (None, 14, 14, 256)  1024        conv4_block5_1_conv[0][0]        \n",
            "__________________________________________________________________________________________________\n",
            "conv4_block5_1_relu (Activation (None, 14, 14, 256)  0           conv4_block5_1_bn[0][0]          \n",
            "__________________________________________________________________________________________________\n",
            "conv4_block5_2_conv (Conv2D)    (None, 14, 14, 256)  590080      conv4_block5_1_relu[0][0]        \n",
            "__________________________________________________________________________________________________\n",
            "conv4_block5_2_bn (BatchNormali (None, 14, 14, 256)  1024        conv4_block5_2_conv[0][0]        \n",
            "__________________________________________________________________________________________________\n",
            "conv4_block5_2_relu (Activation (None, 14, 14, 256)  0           conv4_block5_2_bn[0][0]          \n",
            "__________________________________________________________________________________________________\n",
            "conv4_block5_3_conv (Conv2D)    (None, 14, 14, 1024) 263168      conv4_block5_2_relu[0][0]        \n",
            "__________________________________________________________________________________________________\n",
            "conv4_block5_3_bn (BatchNormali (None, 14, 14, 1024) 4096        conv4_block5_3_conv[0][0]        \n",
            "__________________________________________________________________________________________________\n",
            "conv4_block5_add (Add)          (None, 14, 14, 1024) 0           conv4_block4_out[0][0]           \n",
            "                                                                 conv4_block5_3_bn[0][0]          \n",
            "__________________________________________________________________________________________________\n",
            "conv4_block5_out (Activation)   (None, 14, 14, 1024) 0           conv4_block5_add[0][0]           \n",
            "__________________________________________________________________________________________________\n",
            "conv4_block6_1_conv (Conv2D)    (None, 14, 14, 256)  262400      conv4_block5_out[0][0]           \n",
            "__________________________________________________________________________________________________\n",
            "conv4_block6_1_bn (BatchNormali (None, 14, 14, 256)  1024        conv4_block6_1_conv[0][0]        \n",
            "__________________________________________________________________________________________________\n",
            "conv4_block6_1_relu (Activation (None, 14, 14, 256)  0           conv4_block6_1_bn[0][0]          \n",
            "__________________________________________________________________________________________________\n",
            "conv4_block6_2_conv (Conv2D)    (None, 14, 14, 256)  590080      conv4_block6_1_relu[0][0]        \n",
            "__________________________________________________________________________________________________\n",
            "conv4_block6_2_bn (BatchNormali (None, 14, 14, 256)  1024        conv4_block6_2_conv[0][0]        \n",
            "__________________________________________________________________________________________________\n",
            "conv4_block6_2_relu (Activation (None, 14, 14, 256)  0           conv4_block6_2_bn[0][0]          \n",
            "__________________________________________________________________________________________________\n",
            "conv4_block6_3_conv (Conv2D)    (None, 14, 14, 1024) 263168      conv4_block6_2_relu[0][0]        \n",
            "__________________________________________________________________________________________________\n",
            "conv4_block6_3_bn (BatchNormali (None, 14, 14, 1024) 4096        conv4_block6_3_conv[0][0]        \n",
            "__________________________________________________________________________________________________\n",
            "conv4_block6_add (Add)          (None, 14, 14, 1024) 0           conv4_block5_out[0][0]           \n",
            "                                                                 conv4_block6_3_bn[0][0]          \n",
            "__________________________________________________________________________________________________\n",
            "conv4_block6_out (Activation)   (None, 14, 14, 1024) 0           conv4_block6_add[0][0]           \n",
            "__________________________________________________________________________________________________\n",
            "conv5_block1_1_conv (Conv2D)    (None, 7, 7, 512)    524800      conv4_block6_out[0][0]           \n",
            "__________________________________________________________________________________________________\n",
            "conv5_block1_1_bn (BatchNormali (None, 7, 7, 512)    2048        conv5_block1_1_conv[0][0]        \n",
            "__________________________________________________________________________________________________\n",
            "conv5_block1_1_relu (Activation (None, 7, 7, 512)    0           conv5_block1_1_bn[0][0]          \n",
            "__________________________________________________________________________________________________\n",
            "conv5_block1_2_conv (Conv2D)    (None, 7, 7, 512)    2359808     conv5_block1_1_relu[0][0]        \n",
            "__________________________________________________________________________________________________\n",
            "conv5_block1_2_bn (BatchNormali (None, 7, 7, 512)    2048        conv5_block1_2_conv[0][0]        \n",
            "__________________________________________________________________________________________________\n",
            "conv5_block1_2_relu (Activation (None, 7, 7, 512)    0           conv5_block1_2_bn[0][0]          \n",
            "__________________________________________________________________________________________________\n",
            "conv5_block1_0_conv (Conv2D)    (None, 7, 7, 2048)   2099200     conv4_block6_out[0][0]           \n",
            "__________________________________________________________________________________________________\n",
            "conv5_block1_3_conv (Conv2D)    (None, 7, 7, 2048)   1050624     conv5_block1_2_relu[0][0]        \n",
            "__________________________________________________________________________________________________\n",
            "conv5_block1_0_bn (BatchNormali (None, 7, 7, 2048)   8192        conv5_block1_0_conv[0][0]        \n",
            "__________________________________________________________________________________________________\n",
            "conv5_block1_3_bn (BatchNormali (None, 7, 7, 2048)   8192        conv5_block1_3_conv[0][0]        \n",
            "__________________________________________________________________________________________________\n",
            "conv5_block1_add (Add)          (None, 7, 7, 2048)   0           conv5_block1_0_bn[0][0]          \n",
            "                                                                 conv5_block1_3_bn[0][0]          \n",
            "__________________________________________________________________________________________________\n",
            "conv5_block1_out (Activation)   (None, 7, 7, 2048)   0           conv5_block1_add[0][0]           \n",
            "__________________________________________________________________________________________________\n",
            "conv5_block2_1_conv (Conv2D)    (None, 7, 7, 512)    1049088     conv5_block1_out[0][0]           \n",
            "__________________________________________________________________________________________________\n",
            "conv5_block2_1_bn (BatchNormali (None, 7, 7, 512)    2048        conv5_block2_1_conv[0][0]        \n",
            "__________________________________________________________________________________________________\n",
            "conv5_block2_1_relu (Activation (None, 7, 7, 512)    0           conv5_block2_1_bn[0][0]          \n",
            "__________________________________________________________________________________________________\n",
            "conv5_block2_2_conv (Conv2D)    (None, 7, 7, 512)    2359808     conv5_block2_1_relu[0][0]        \n",
            "__________________________________________________________________________________________________\n",
            "conv5_block2_2_bn (BatchNormali (None, 7, 7, 512)    2048        conv5_block2_2_conv[0][0]        \n",
            "__________________________________________________________________________________________________\n",
            "conv5_block2_2_relu (Activation (None, 7, 7, 512)    0           conv5_block2_2_bn[0][0]          \n",
            "__________________________________________________________________________________________________\n",
            "conv5_block2_3_conv (Conv2D)    (None, 7, 7, 2048)   1050624     conv5_block2_2_relu[0][0]        \n",
            "__________________________________________________________________________________________________\n",
            "conv5_block2_3_bn (BatchNormali (None, 7, 7, 2048)   8192        conv5_block2_3_conv[0][0]        \n",
            "__________________________________________________________________________________________________\n",
            "conv5_block2_add (Add)          (None, 7, 7, 2048)   0           conv5_block1_out[0][0]           \n",
            "                                                                 conv5_block2_3_bn[0][0]          \n",
            "__________________________________________________________________________________________________\n",
            "conv5_block2_out (Activation)   (None, 7, 7, 2048)   0           conv5_block2_add[0][0]           \n",
            "__________________________________________________________________________________________________\n",
            "conv5_block3_1_conv (Conv2D)    (None, 7, 7, 512)    1049088     conv5_block2_out[0][0]           \n",
            "__________________________________________________________________________________________________\n",
            "conv5_block3_1_bn (BatchNormali (None, 7, 7, 512)    2048        conv5_block3_1_conv[0][0]        \n",
            "__________________________________________________________________________________________________\n",
            "conv5_block3_1_relu (Activation (None, 7, 7, 512)    0           conv5_block3_1_bn[0][0]          \n",
            "__________________________________________________________________________________________________\n",
            "conv5_block3_2_conv (Conv2D)    (None, 7, 7, 512)    2359808     conv5_block3_1_relu[0][0]        \n",
            "__________________________________________________________________________________________________\n",
            "conv5_block3_2_bn (BatchNormali (None, 7, 7, 512)    2048        conv5_block3_2_conv[0][0]        \n",
            "__________________________________________________________________________________________________\n",
            "conv5_block3_2_relu (Activation (None, 7, 7, 512)    0           conv5_block3_2_bn[0][0]          \n",
            "__________________________________________________________________________________________________\n",
            "conv5_block3_3_conv (Conv2D)    (None, 7, 7, 2048)   1050624     conv5_block3_2_relu[0][0]        \n",
            "__________________________________________________________________________________________________\n",
            "conv5_block3_3_bn (BatchNormali (None, 7, 7, 2048)   8192        conv5_block3_3_conv[0][0]        \n",
            "__________________________________________________________________________________________________\n",
            "conv5_block3_add (Add)          (None, 7, 7, 2048)   0           conv5_block2_out[0][0]           \n",
            "                                                                 conv5_block3_3_bn[0][0]          \n",
            "__________________________________________________________________________________________________\n",
            "conv5_block3_out (Activation)   (None, 7, 7, 2048)   0           conv5_block3_add[0][0]           \n",
            "__________________________________________________________________________________________________\n",
            "flatten (Flatten)               (None, 100352)       0           conv5_block3_out[0][0]           \n",
            "__________________________________________________________________________________________________\n",
            "dense (Dense)                   (None, 3)            301059      flatten[0][0]                    \n",
            "==================================================================================================\n",
            "Total params: 23,888,771\n",
            "Trainable params: 301,059\n",
            "Non-trainable params: 23,587,712\n",
            "__________________________________________________________________________________________________\n"
          ],
          "name": "stdout"
        }
      ]
    },
    {
      "cell_type": "code",
      "metadata": {
        "id": "GgE3f6Aoxctx",
        "colab_type": "code",
        "colab": {}
      },
      "source": [
        "model.compile(\n",
        "    loss='categorical_crossentropy',\n",
        "    optimizer = 'adam',\n",
        "    metrics = ['accuracy']\n",
        ")"
      ],
      "execution_count": 11,
      "outputs": []
    },
    {
      "cell_type": "code",
      "metadata": {
        "id": "iZqZ1ejixgGe",
        "colab_type": "code",
        "colab": {}
      },
      "source": [
        "train_datafen =ImageDataGenerator(rescale= 1./255,shear_range = 0.2,\n",
        "                                 zoom_range=0.2,\n",
        "                                 horizontal_flip=True)\n",
        "\n",
        "test_datafen =ImageDataGenerator(rescale= 1./255)\n",
        "\n"
      ],
      "execution_count": 12,
      "outputs": []
    },
    {
      "cell_type": "code",
      "metadata": {
        "id": "ovy-Bx2jxjR8",
        "colab_type": "code",
        "colab": {
          "base_uri": "https://localhost:8080/",
          "height": 34
        },
        "outputId": "11a223e1-7442-4b24-ae42-2782111c878a"
      },
      "source": [
        "training_set = train_datafen.flow_from_directory('/content/Datasets/Train',\n",
        "                                                target_size=(224,224),\n",
        "                                                batch_size=32,\n",
        "                                                class_mode='categorical')"
      ],
      "execution_count": 13,
      "outputs": [
        {
          "output_type": "stream",
          "text": [
            "Found 64 images belonging to 3 classes.\n"
          ],
          "name": "stdout"
        }
      ]
    },
    {
      "cell_type": "code",
      "metadata": {
        "id": "GhSLXtjIxtNt",
        "colab_type": "code",
        "colab": {
          "base_uri": "https://localhost:8080/",
          "height": 34
        },
        "outputId": "f1cabb9d-7a13-4544-9241-5f9f6a7397e1"
      },
      "source": [
        "testing_set = test_datafen.flow_from_directory('/content/Datasets/Test',\n",
        "                                                target_size=(224,224),\n",
        "                                                batch_size=32,\n",
        "                                                class_mode='categorical')"
      ],
      "execution_count": 14,
      "outputs": [
        {
          "output_type": "stream",
          "text": [
            "Found 58 images belonging to 3 classes.\n"
          ],
          "name": "stdout"
        }
      ]
    },
    {
      "cell_type": "code",
      "metadata": {
        "id": "xgXrUM_ixy3B",
        "colab_type": "code",
        "colab": {
          "base_uri": "https://localhost:8080/",
          "height": 1000
        },
        "outputId": "302697d8-26c0-4382-f3da-fbdd79b4869a"
      },
      "source": [
        "r = model.fit_generator(\n",
        "training_set,\n",
        "validation_data=testing_set,\n",
        "epochs = 50,\n",
        "steps_per_epoch=len(training_set),\n",
        "validation_steps=len(testing_set))"
      ],
      "execution_count": 23,
      "outputs": [
        {
          "output_type": "stream",
          "text": [
            "Epoch 1/70\n",
            "2/2 [==============================] - 1s 528ms/step - loss: 0.2161 - accuracy: 0.9219 - val_loss: 0.8066 - val_accuracy: 0.7586\n",
            "Epoch 2/70\n",
            "2/2 [==============================] - 1s 521ms/step - loss: 0.2268 - accuracy: 0.9219 - val_loss: 0.8019 - val_accuracy: 0.7931\n",
            "Epoch 3/70\n",
            "2/2 [==============================] - 1s 513ms/step - loss: 0.1968 - accuracy: 0.9531 - val_loss: 0.7965 - val_accuracy: 0.8103\n",
            "Epoch 4/70\n",
            "2/2 [==============================] - 1s 518ms/step - loss: 0.2010 - accuracy: 0.9688 - val_loss: 0.9136 - val_accuracy: 0.6724\n",
            "Epoch 5/70\n",
            "2/2 [==============================] - 1s 518ms/step - loss: 0.2342 - accuracy: 0.9219 - val_loss: 0.8144 - val_accuracy: 0.7759\n",
            "Epoch 6/70\n",
            "2/2 [==============================] - 1s 516ms/step - loss: 0.1838 - accuracy: 0.9688 - val_loss: 0.8196 - val_accuracy: 0.7931\n",
            "Epoch 7/70\n",
            "2/2 [==============================] - 1s 520ms/step - loss: 0.2095 - accuracy: 0.9531 - val_loss: 0.8278 - val_accuracy: 0.7586\n",
            "Epoch 8/70\n",
            "2/2 [==============================] - 1s 527ms/step - loss: 0.1996 - accuracy: 0.9375 - val_loss: 0.8486 - val_accuracy: 0.7414\n",
            "Epoch 9/70\n",
            "2/2 [==============================] - 1s 519ms/step - loss: 0.2007 - accuracy: 0.9531 - val_loss: 0.8270 - val_accuracy: 0.7241\n",
            "Epoch 10/70\n",
            "2/2 [==============================] - 1s 518ms/step - loss: 0.1990 - accuracy: 0.9688 - val_loss: 0.8177 - val_accuracy: 0.7759\n",
            "Epoch 11/70\n",
            "2/2 [==============================] - 1s 521ms/step - loss: 0.1687 - accuracy: 0.9688 - val_loss: 0.7962 - val_accuracy: 0.7931\n",
            "Epoch 12/70\n",
            "2/2 [==============================] - 1s 526ms/step - loss: 0.1686 - accuracy: 0.9844 - val_loss: 0.8559 - val_accuracy: 0.7414\n",
            "Epoch 13/70\n",
            "2/2 [==============================] - 1s 520ms/step - loss: 0.1877 - accuracy: 0.9688 - val_loss: 0.7998 - val_accuracy: 0.7931\n",
            "Epoch 14/70\n",
            "2/2 [==============================] - 1s 515ms/step - loss: 0.1663 - accuracy: 0.9844 - val_loss: 0.8128 - val_accuracy: 0.7931\n",
            "Epoch 15/70\n",
            "2/2 [==============================] - 1s 517ms/step - loss: 0.1719 - accuracy: 0.9688 - val_loss: 0.8697 - val_accuracy: 0.7241\n",
            "Epoch 16/70\n",
            "2/2 [==============================] - 1s 517ms/step - loss: 0.1713 - accuracy: 0.9688 - val_loss: 0.8353 - val_accuracy: 0.7586\n",
            "Epoch 17/70\n",
            "2/2 [==============================] - 1s 515ms/step - loss: 0.1951 - accuracy: 0.9844 - val_loss: 0.8029 - val_accuracy: 0.8103\n",
            "Epoch 18/70\n",
            "2/2 [==============================] - 1s 519ms/step - loss: 0.1625 - accuracy: 0.9844 - val_loss: 0.8034 - val_accuracy: 0.7931\n",
            "Epoch 19/70\n",
            "2/2 [==============================] - 1s 521ms/step - loss: 0.1541 - accuracy: 0.9844 - val_loss: 0.8931 - val_accuracy: 0.7069\n",
            "Epoch 20/70\n",
            "2/2 [==============================] - 1s 520ms/step - loss: 0.1581 - accuracy: 0.9844 - val_loss: 0.8070 - val_accuracy: 0.7931\n",
            "Epoch 21/70\n",
            "2/2 [==============================] - 1s 525ms/step - loss: 0.1653 - accuracy: 0.9688 - val_loss: 0.8068 - val_accuracy: 0.8103\n",
            "Epoch 22/70\n",
            "2/2 [==============================] - 1s 521ms/step - loss: 0.1228 - accuracy: 1.0000 - val_loss: 0.8740 - val_accuracy: 0.7414\n",
            "Epoch 23/70\n",
            "2/2 [==============================] - 1s 519ms/step - loss: 0.1471 - accuracy: 0.9531 - val_loss: 0.8243 - val_accuracy: 0.7586\n",
            "Epoch 24/70\n",
            "2/2 [==============================] - 1s 518ms/step - loss: 0.1589 - accuracy: 0.9688 - val_loss: 0.8216 - val_accuracy: 0.7759\n",
            "Epoch 25/70\n",
            "2/2 [==============================] - 1s 524ms/step - loss: 0.1580 - accuracy: 0.9844 - val_loss: 0.8201 - val_accuracy: 0.7586\n",
            "Epoch 26/70\n",
            "2/2 [==============================] - 1s 523ms/step - loss: 0.1532 - accuracy: 0.9844 - val_loss: 0.8657 - val_accuracy: 0.7241\n",
            "Epoch 27/70\n",
            "2/2 [==============================] - 1s 524ms/step - loss: 0.1839 - accuracy: 0.9531 - val_loss: 0.8160 - val_accuracy: 0.7759\n",
            "Epoch 28/70\n",
            "2/2 [==============================] - 1s 519ms/step - loss: 0.1238 - accuracy: 1.0000 - val_loss: 0.8302 - val_accuracy: 0.7586\n",
            "Epoch 29/70\n",
            "2/2 [==============================] - 1s 520ms/step - loss: 0.1715 - accuracy: 0.9688 - val_loss: 0.8319 - val_accuracy: 0.7586\n",
            "Epoch 30/70\n",
            "2/2 [==============================] - 1s 517ms/step - loss: 0.1289 - accuracy: 1.0000 - val_loss: 0.8424 - val_accuracy: 0.7414\n",
            "Epoch 31/70\n",
            "2/2 [==============================] - 1s 514ms/step - loss: 0.1295 - accuracy: 0.9844 - val_loss: 0.8144 - val_accuracy: 0.7931\n",
            "Epoch 32/70\n",
            "2/2 [==============================] - 1s 520ms/step - loss: 0.1236 - accuracy: 0.9844 - val_loss: 0.8199 - val_accuracy: 0.7931\n",
            "Epoch 33/70\n",
            "2/2 [==============================] - 1s 524ms/step - loss: 0.1349 - accuracy: 1.0000 - val_loss: 0.8702 - val_accuracy: 0.7414\n",
            "Epoch 34/70\n",
            "2/2 [==============================] - 1s 521ms/step - loss: 0.1020 - accuracy: 1.0000 - val_loss: 0.8228 - val_accuracy: 0.7759\n",
            "Epoch 35/70\n",
            "2/2 [==============================] - 1s 521ms/step - loss: 0.1336 - accuracy: 1.0000 - val_loss: 0.8274 - val_accuracy: 0.7759\n",
            "Epoch 36/70\n",
            "2/2 [==============================] - 1s 514ms/step - loss: 0.1533 - accuracy: 0.9531 - val_loss: 0.8285 - val_accuracy: 0.7586\n",
            "Epoch 37/70\n",
            "2/2 [==============================] - 1s 514ms/step - loss: 0.1187 - accuracy: 1.0000 - val_loss: 0.9174 - val_accuracy: 0.7414\n",
            "Epoch 38/70\n",
            "2/2 [==============================] - 1s 519ms/step - loss: 0.1462 - accuracy: 0.9844 - val_loss: 0.8251 - val_accuracy: 0.7931\n",
            "Epoch 39/70\n",
            "2/2 [==============================] - 1s 522ms/step - loss: 0.1586 - accuracy: 0.9531 - val_loss: 0.8555 - val_accuracy: 0.7759\n",
            "Epoch 40/70\n",
            "2/2 [==============================] - 1s 525ms/step - loss: 0.1123 - accuracy: 0.9844 - val_loss: 0.8617 - val_accuracy: 0.7414\n",
            "Epoch 41/70\n",
            "2/2 [==============================] - 1s 520ms/step - loss: 0.1427 - accuracy: 0.9844 - val_loss: 0.8952 - val_accuracy: 0.7414\n",
            "Epoch 42/70\n",
            "2/2 [==============================] - 1s 520ms/step - loss: 0.1116 - accuracy: 0.9844 - val_loss: 0.8728 - val_accuracy: 0.7241\n",
            "Epoch 43/70\n",
            "2/2 [==============================] - 1s 523ms/step - loss: 0.1720 - accuracy: 0.9531 - val_loss: 0.8329 - val_accuracy: 0.8103\n",
            "Epoch 44/70\n",
            "2/2 [==============================] - 1s 519ms/step - loss: 0.1314 - accuracy: 0.9844 - val_loss: 1.0644 - val_accuracy: 0.6552\n",
            "Epoch 45/70\n",
            "2/2 [==============================] - 1s 515ms/step - loss: 0.1679 - accuracy: 0.9688 - val_loss: 0.8455 - val_accuracy: 0.7414\n",
            "Epoch 46/70\n",
            "2/2 [==============================] - 1s 515ms/step - loss: 0.1091 - accuracy: 0.9844 - val_loss: 0.8776 - val_accuracy: 0.7414\n",
            "Epoch 47/70\n",
            "2/2 [==============================] - 1s 516ms/step - loss: 0.1161 - accuracy: 0.9688 - val_loss: 0.9147 - val_accuracy: 0.7241\n",
            "Epoch 48/70\n",
            "2/2 [==============================] - 1s 524ms/step - loss: 0.1437 - accuracy: 0.9688 - val_loss: 0.8719 - val_accuracy: 0.7414\n",
            "Epoch 49/70\n",
            "2/2 [==============================] - 1s 520ms/step - loss: 0.1043 - accuracy: 0.9844 - val_loss: 0.8972 - val_accuracy: 0.7586\n",
            "Epoch 50/70\n",
            "2/2 [==============================] - 1s 513ms/step - loss: 0.1800 - accuracy: 0.9375 - val_loss: 0.8538 - val_accuracy: 0.7759\n",
            "Epoch 51/70\n",
            "2/2 [==============================] - 1s 515ms/step - loss: 0.1284 - accuracy: 0.9688 - val_loss: 0.9614 - val_accuracy: 0.7069\n",
            "Epoch 52/70\n",
            "2/2 [==============================] - 1s 519ms/step - loss: 0.1559 - accuracy: 0.9688 - val_loss: 0.9170 - val_accuracy: 0.7241\n",
            "Epoch 53/70\n",
            "2/2 [==============================] - 1s 524ms/step - loss: 0.1618 - accuracy: 0.9531 - val_loss: 0.8673 - val_accuracy: 0.7586\n",
            "Epoch 54/70\n",
            "2/2 [==============================] - 1s 522ms/step - loss: 0.1228 - accuracy: 0.9688 - val_loss: 0.9819 - val_accuracy: 0.7241\n",
            "Epoch 55/70\n",
            "2/2 [==============================] - 1s 519ms/step - loss: 0.2014 - accuracy: 0.9219 - val_loss: 0.8572 - val_accuracy: 0.7931\n",
            "Epoch 56/70\n",
            "2/2 [==============================] - 1s 515ms/step - loss: 0.1485 - accuracy: 0.9531 - val_loss: 0.9056 - val_accuracy: 0.7414\n",
            "Epoch 57/70\n",
            "2/2 [==============================] - 1s 526ms/step - loss: 0.1417 - accuracy: 0.9531 - val_loss: 1.0007 - val_accuracy: 0.7069\n",
            "Epoch 58/70\n",
            "2/2 [==============================] - 1s 515ms/step - loss: 0.2089 - accuracy: 0.8906 - val_loss: 0.8845 - val_accuracy: 0.7414\n",
            "Epoch 59/70\n",
            "2/2 [==============================] - 1s 519ms/step - loss: 0.0828 - accuracy: 1.0000 - val_loss: 1.0236 - val_accuracy: 0.7241\n",
            "Epoch 60/70\n",
            "2/2 [==============================] - 1s 515ms/step - loss: 0.1834 - accuracy: 0.9062 - val_loss: 0.8712 - val_accuracy: 0.7759\n",
            "Epoch 61/70\n",
            "2/2 [==============================] - 1s 516ms/step - loss: 0.0859 - accuracy: 0.9844 - val_loss: 1.0354 - val_accuracy: 0.6897\n",
            "Epoch 62/70\n",
            "2/2 [==============================] - 1s 525ms/step - loss: 0.1361 - accuracy: 0.9844 - val_loss: 0.8864 - val_accuracy: 0.7586\n",
            "Epoch 63/70\n",
            "2/2 [==============================] - 1s 529ms/step - loss: 0.0905 - accuracy: 1.0000 - val_loss: 0.9073 - val_accuracy: 0.7241\n",
            "Epoch 64/70\n",
            "2/2 [==============================] - 1s 511ms/step - loss: 0.1066 - accuracy: 0.9688 - val_loss: 0.9471 - val_accuracy: 0.7414\n",
            "Epoch 65/70\n",
            "2/2 [==============================] - 1s 522ms/step - loss: 0.1398 - accuracy: 0.9531 - val_loss: 0.9119 - val_accuracy: 0.7586\n",
            "Epoch 66/70\n",
            "2/2 [==============================] - 1s 521ms/step - loss: 0.0936 - accuracy: 1.0000 - val_loss: 0.9198 - val_accuracy: 0.7241\n",
            "Epoch 67/70\n",
            "2/2 [==============================] - 1s 513ms/step - loss: 0.1189 - accuracy: 0.9531 - val_loss: 0.8668 - val_accuracy: 0.7759\n",
            "Epoch 68/70\n",
            "2/2 [==============================] - 1s 518ms/step - loss: 0.1068 - accuracy: 1.0000 - val_loss: 0.9717 - val_accuracy: 0.7414\n",
            "Epoch 69/70\n",
            "2/2 [==============================] - 1s 516ms/step - loss: 0.1091 - accuracy: 0.9844 - val_loss: 0.8771 - val_accuracy: 0.8103\n",
            "Epoch 70/70\n",
            "2/2 [==============================] - 1s 517ms/step - loss: 0.0960 - accuracy: 1.0000 - val_loss: 0.8760 - val_accuracy: 0.8103\n"
          ],
          "name": "stdout"
        }
      ]
    },
    {
      "cell_type": "code",
      "metadata": {
        "id": "3XAAe4iNx3kZ",
        "colab_type": "code",
        "colab": {
          "base_uri": "https://localhost:8080/",
          "height": 530
        },
        "outputId": "b86355b8-5abd-442d-fbb2-dbd1a423b2e6"
      },
      "source": [
        "plt.plot(r.history['loss'], label='train loss')\n",
        "plt.plot(r.history['val_loss'], label='val loss')\n",
        "plt.legend()\n",
        "plt.show()\n",
        "plt.savefig('LossVal_loss')\n",
        "\n",
        "# plot the accuracy\n",
        "plt.plot(r.history['accuracy'], label='train acc')\n",
        "plt.plot(r.history['val_accuracy'], label='val acc')\n",
        "plt.legend()\n",
        "plt.show()\n",
        "plt.savefig('AccVal_acc')\n"
      ],
      "execution_count": 24,
      "outputs": [
        {
          "output_type": "display_data",
          "data": {
            "image/png": "[encoded data removed]",
            "text/plain": [
              "<Figure size 432x288 with 1 Axes>"
            ]
          },
          "metadata": {
            "tags": [],
            "needs_background": "light"
          }
        },
        {
          "output_type": "display_data",
          "data": {
            "image/png": "[encoded data removed]",
            "text/plain": [
              "<Figure size 432x288 with 1 Axes>"
            ]
          },
          "metadata": {
            "tags": [],
            "needs_background": "light"
          }
        },
        {
          "output_type": "display_data",
          "data": {
            "text/plain": [
              "<Figure size 432x288 with 0 Axes>"
            ]
          },
          "metadata": {
            "tags": []
          }
        }
      ]
    },
    {
      "cell_type": "code",
      "metadata": {
        "id": "cl3O-1dizNOO",
        "colab_type": "code",
        "colab": {}
      },
      "source": [
        "from tensorflow.keras.models import load_model\n",
        "\n",
        "model.save(\"transfer_l_resnet.h5\")"
      ],
      "execution_count": 18,
      "outputs": []
    },
    {
      "cell_type": "code",
      "metadata": {
        "id": "f9mbyjSp0E4M",
        "colab_type": "code",
        "colab": {}
      },
      "source": [
        "y_pred = model.predict(testing_set)"
      ],
      "execution_count": 19,
      "outputs": []
    },
    {
      "cell_type": "code",
      "metadata": {
        "id": "DVS70Qux0iJv",
        "colab_type": "code",
        "colab": {
          "base_uri": "https://localhost:8080/",
          "height": 1000
        },
        "outputId": "6cd6b3c3-c340-468e-80ba-12a6e2fb7a75"
      },
      "source": [
        "y_pred"
      ],
      "execution_count": 20,
      "outputs": [
        {
          "output_type": "execute_result",
          "data": {
            "text/plain": [
              "array([[9.35704336e-02, 1.34918699e-02, 8.92937720e-01],\n",
              "       [3.13923192e-05, 4.40797769e-03, 9.95560646e-01],\n",
              "       [6.91042662e-01, 1.61709815e-01, 1.47247493e-01],\n",
              "       [4.80857007e-02, 9.35837924e-01, 1.60763264e-02],\n",
              "       [1.69811681e-01, 2.34864186e-02, 8.06701958e-01],\n",
              "       [8.27990589e-05, 1.19343610e-03, 9.98723686e-01],\n",
              "       [9.35305357e-01, 3.47926430e-02, 2.99019367e-02],\n",
              "       [9.63161327e-03, 6.45391762e-01, 3.44976604e-01],\n",
              "       [9.71483469e-01, 1.59479063e-02, 1.25686629e-02],\n",
              "       [1.61344841e-01, 2.41068359e-02, 8.14548314e-01],\n",
              "       [1.59182474e-02, 6.90138638e-02, 9.15067911e-01],\n",
              "       [3.31945792e-02, 9.13096130e-01, 5.37093095e-02],\n",
              "       [4.00085151e-01, 1.17389314e-01, 4.82525527e-01],\n",
              "       [3.36219698e-01, 4.65477020e-01, 1.98303297e-01],\n",
              "       [5.50562918e-01, 3.01885486e-01, 1.47551626e-01],\n",
              "       [8.37543234e-03, 9.73341346e-01, 1.82831585e-02],\n",
              "       [3.02481297e-02, 8.04956198e-01, 1.64795622e-01],\n",
              "       [2.41281688e-01, 2.84734577e-01, 4.73983705e-01],\n",
              "       [8.05695355e-02, 8.03563237e-01, 1.15867220e-01],\n",
              "       [7.93087959e-01, 8.81662685e-03, 1.98095366e-01],\n",
              "       [9.77590904e-02, 6.08621776e-01, 2.93619156e-01],\n",
              "       [8.44850857e-03, 9.69681859e-01, 2.18697172e-02],\n",
              "       [5.17403223e-02, 8.26727133e-03, 9.39992428e-01],\n",
              "       [3.83184105e-03, 9.89550531e-01, 6.61767088e-03],\n",
              "       [2.56912887e-01, 5.17429233e-01, 2.25657865e-01],\n",
              "       [1.30913872e-03, 9.84618068e-01, 1.40729174e-02],\n",
              "       [1.63551733e-01, 4.40642804e-01, 3.95805448e-01],\n",
              "       [3.58495414e-02, 6.97991669e-01, 2.66158789e-01],\n",
              "       [8.89327470e-03, 6.20050728e-01, 3.71055990e-01],\n",
              "       [4.23574820e-02, 4.91411179e-01, 4.66231346e-01],\n",
              "       [1.72658800e-03, 8.52362931e-01, 1.45910561e-01],\n",
              "       [3.19452137e-01, 4.56637055e-01, 2.23910749e-01],\n",
              "       [1.19285800e-01, 8.00655864e-04, 8.79913509e-01],\n",
              "       [8.83943811e-02, 1.50878146e-01, 7.60727465e-01],\n",
              "       [7.24881828e-01, 2.71954745e-01, 3.16338567e-03],\n",
              "       [7.51511902e-02, 3.71740758e-01, 5.53108096e-01],\n",
              "       [1.32715523e-01, 1.00881092e-01, 7.66403317e-01],\n",
              "       [7.28295092e-03, 9.56330419e-01, 3.63865569e-02],\n",
              "       [1.23667486e-01, 5.83504885e-03, 8.70497465e-01],\n",
              "       [4.17808257e-02, 5.81136167e-01, 3.77083004e-01],\n",
              "       [3.71926092e-02, 7.57883132e-01, 2.04924360e-01],\n",
              "       [8.82075548e-01, 8.74973536e-02, 3.04271299e-02],\n",
              "       [9.51405019e-02, 5.35278738e-01, 3.69580805e-01],\n",
              "       [8.02387968e-02, 4.77360427e-01, 4.42400813e-01],\n",
              "       [1.25803918e-01, 7.51557291e-01, 1.22638829e-01],\n",
              "       [3.94291542e-02, 8.09640408e-01, 1.50930464e-01],\n",
              "       [1.31227970e-01, 7.39183068e-01, 1.29588932e-01],\n",
              "       [1.66125409e-02, 9.20311987e-01, 6.30753785e-02],\n",
              "       [3.77828605e-04, 9.95782495e-01, 3.83965974e-03],\n",
              "       [8.38737842e-03, 9.90720272e-01, 8.92416341e-04],\n",
              "       [1.89839955e-03, 9.95195568e-01, 2.90602376e-03],\n",
              "       [2.84637660e-01, 6.85170949e-01, 3.01913675e-02],\n",
              "       [7.06129432e-01, 2.16575891e-01, 7.72946626e-02],\n",
              "       [2.93358508e-02, 9.51284111e-01, 1.93800703e-02],\n",
              "       [4.72293906e-02, 3.57819945e-01, 5.94950676e-01],\n",
              "       [4.63993251e-02, 6.61926031e-01, 2.91674614e-01],\n",
              "       [5.57917468e-02, 3.05770934e-01, 6.38437331e-01],\n",
              "       [5.55448942e-02, 8.20286810e-01, 1.24168307e-01]], dtype=float32)"
            ]
          },
          "metadata": {
            "tags": []
          },
          "execution_count": 20
        }
      ]
    },
    {
      "cell_type": "code",
      "metadata": {
        "id": "j03HCK-S0kBl",
        "colab_type": "code",
        "colab": {}
      },
      "source": [
        "import numpy as np\n",
        "y_pred = np.argmax(y_pred, axis=1)"
      ],
      "execution_count": 21,
      "outputs": []
    },
    {
      "cell_type": "code",
      "metadata": {
        "id": "oUv6Olwt1l3P",
        "colab_type": "code",
        "colab": {
          "base_uri": "https://localhost:8080/",
          "height": 68
        },
        "outputId": "2d0d2df5-db89-4f70-8672-a6bf3b40916d"
      },
      "source": [
        "y_pred"
      ],
      "execution_count": 22,
      "outputs": [
        {
          "output_type": "execute_result",
          "data": {
            "text/plain": [
              "array([2, 2, 0, 1, 2, 2, 0, 1, 0, 2, 2, 1, 2, 1, 0, 1, 1, 2, 1, 0, 1, 1,\n",
              "       2, 1, 1, 1, 1, 1, 1, 1, 1, 1, 2, 2, 0, 2, 2, 1, 2, 1, 1, 0, 1, 1,\n",
              "       1, 1, 1, 1, 1, 1, 1, 1, 0, 1, 2, 1, 2, 1])"
            ]
          },
          "metadata": {
            "tags": []
          },
          "execution_count": 22
        }
      ]
    },
    {
      "cell_type": "code",
      "metadata": {
        "id": "My-njph_1nma",
        "colab_type": "code",
        "colab": {}
      },
      "source": [
        "model = load_model(\"/content/transfer_l_resnet.h5\")"
      ],
      "execution_count": 26,
      "outputs": []
    },
    {
      "cell_type": "code",
      "metadata": {
        "id": "y8rBMVH43H5_",
        "colab_type": "code",
        "colab": {}
      },
      "source": [
        "img = image.load_img('/content/Datasets/Test/lamborghini/11.jpg',target_size=(224,224))"
      ],
      "execution_count": 36,
      "outputs": []
    },
    {
      "cell_type": "code",
      "metadata": {
        "id": "zCSEaWD33zPG",
        "colab_type": "code",
        "colab": {
          "base_uri": "https://localhost:8080/",
          "height": 850
        },
        "outputId": "78ac1715-51ec-49c8-bd60-aee04aad67a2"
      },
      "source": [
        "x = image.img_to_array(img)\n",
        "x"
      ],
      "execution_count": 37,
      "outputs": [
        {
          "output_type": "execute_result",
          "data": {
            "text/plain": [
              "array([[[252., 252., 252.],\n",
              "        [252., 252., 252.],\n",
              "        [252., 252., 252.],\n",
              "        ...,\n",
              "        [196., 187., 172.],\n",
              "        [217., 208., 193.],\n",
              "        [243., 234., 219.]],\n",
              "\n",
              "       [[252., 252., 252.],\n",
              "        [252., 252., 252.],\n",
              "        [252., 252., 252.],\n",
              "        ...,\n",
              "        [245., 245., 237.],\n",
              "        [243., 243., 235.],\n",
              "        [242., 242., 234.]],\n",
              "\n",
              "       [[252., 252., 252.],\n",
              "        [252., 252., 252.],\n",
              "        [252., 252., 252.],\n",
              "        ...,\n",
              "        [240., 249., 248.],\n",
              "        [242., 251., 250.],\n",
              "        [242., 251., 250.]],\n",
              "\n",
              "       ...,\n",
              "\n",
              "       [[189., 207., 229.],\n",
              "        [190., 206., 229.],\n",
              "        [190., 206., 229.],\n",
              "        ...,\n",
              "        [171., 180., 187.],\n",
              "        [171., 180., 187.],\n",
              "        [171., 180., 187.]],\n",
              "\n",
              "       [[185., 206., 227.],\n",
              "        [185., 206., 227.],\n",
              "        [185., 206., 227.],\n",
              "        ...,\n",
              "        [171., 180., 187.],\n",
              "        [171., 180., 187.],\n",
              "        [171., 180., 187.]],\n",
              "\n",
              "       [[185., 206., 227.],\n",
              "        [185., 206., 227.],\n",
              "        [185., 206., 227.],\n",
              "        ...,\n",
              "        [171., 180., 187.],\n",
              "        [171., 180., 187.],\n",
              "        [171., 180., 187.]]], dtype=float32)"
            ]
          },
          "metadata": {
            "tags": []
          },
          "execution_count": 37
        }
      ]
    },
    {
      "cell_type": "code",
      "metadata": {
        "id": "2TSIRYqc36LX",
        "colab_type": "code",
        "colab": {
          "base_uri": "https://localhost:8080/",
          "height": 34
        },
        "outputId": "9f90671d-1aad-449b-effb-93ecb93a111e"
      },
      "source": [
        "x.shape"
      ],
      "execution_count": 38,
      "outputs": [
        {
          "output_type": "execute_result",
          "data": {
            "text/plain": [
              "(224, 224, 3)"
            ]
          },
          "metadata": {
            "tags": []
          },
          "execution_count": 38
        }
      ]
    },
    {
      "cell_type": "code",
      "metadata": {
        "id": "PiAe8y4Q4GOH",
        "colab_type": "code",
        "colab": {}
      },
      "source": [
        "x = x/225"
      ],
      "execution_count": 39,
      "outputs": []
    },
    {
      "cell_type": "code",
      "metadata": {
        "id": "M0nJtmpi4IHr",
        "colab_type": "code",
        "colab": {
          "base_uri": "https://localhost:8080/",
          "height": 850
        },
        "outputId": "cb6badaf-e259-484c-d5f7-23aadc767fdd"
      },
      "source": [
        "x"
      ],
      "execution_count": 40,
      "outputs": [
        {
          "output_type": "execute_result",
          "data": {
            "text/plain": [
              "array([[[1.12      , 1.12      , 1.12      ],\n",
              "        [1.12      , 1.12      , 1.12      ],\n",
              "        [1.12      , 1.12      , 1.12      ],\n",
              "        ...,\n",
              "        [0.8711111 , 0.83111113, 0.7644445 ],\n",
              "        [0.96444446, 0.92444444, 0.8577778 ],\n",
              "        [1.08      , 1.04      , 0.97333336]],\n",
              "\n",
              "       [[1.12      , 1.12      , 1.12      ],\n",
              "        [1.12      , 1.12      , 1.12      ],\n",
              "        [1.12      , 1.12      , 1.12      ],\n",
              "        ...,\n",
              "        [1.0888889 , 1.0888889 , 1.0533333 ],\n",
              "        [1.08      , 1.08      , 1.0444444 ],\n",
              "        [1.0755556 , 1.0755556 , 1.04      ]],\n",
              "\n",
              "       [[1.12      , 1.12      , 1.12      ],\n",
              "        [1.12      , 1.12      , 1.12      ],\n",
              "        [1.12      , 1.12      , 1.12      ],\n",
              "        ...,\n",
              "        [1.0666667 , 1.1066667 , 1.1022222 ],\n",
              "        [1.0755556 , 1.1155555 , 1.1111112 ],\n",
              "        [1.0755556 , 1.1155555 , 1.1111112 ]],\n",
              "\n",
              "       ...,\n",
              "\n",
              "       [[0.84      , 0.92      , 1.0177778 ],\n",
              "        [0.84444445, 0.91555554, 1.0177778 ],\n",
              "        [0.84444445, 0.91555554, 1.0177778 ],\n",
              "        ...,\n",
              "        [0.76      , 0.8       , 0.83111113],\n",
              "        [0.76      , 0.8       , 0.83111113],\n",
              "        [0.76      , 0.8       , 0.83111113]],\n",
              "\n",
              "       [[0.82222223, 0.91555554, 1.0088888 ],\n",
              "        [0.82222223, 0.91555554, 1.0088888 ],\n",
              "        [0.82222223, 0.91555554, 1.0088888 ],\n",
              "        ...,\n",
              "        [0.76      , 0.8       , 0.83111113],\n",
              "        [0.76      , 0.8       , 0.83111113],\n",
              "        [0.76      , 0.8       , 0.83111113]],\n",
              "\n",
              "       [[0.82222223, 0.91555554, 1.0088888 ],\n",
              "        [0.82222223, 0.91555554, 1.0088888 ],\n",
              "        [0.82222223, 0.91555554, 1.0088888 ],\n",
              "        ...,\n",
              "        [0.76      , 0.8       , 0.83111113],\n",
              "        [0.76      , 0.8       , 0.83111113],\n",
              "        [0.76      , 0.8       , 0.83111113]]], dtype=float32)"
            ]
          },
          "metadata": {
            "tags": []
          },
          "execution_count": 40
        }
      ]
    },
    {
      "cell_type": "code",
      "metadata": {
        "id": "MNFZAfP04JC0",
        "colab_type": "code",
        "colab": {
          "base_uri": "https://localhost:8080/",
          "height": 34
        },
        "outputId": "f34fe7a2-cebd-4f37-b87c-f7fee3c054b0"
      },
      "source": [
        "x = np.expand_dims(x,axis=0)\n",
        "img_data = preprocess_input(x)\n",
        "img_data.shape"
      ],
      "execution_count": 41,
      "outputs": [
        {
          "output_type": "execute_result",
          "data": {
            "text/plain": [
              "(1, 224, 224, 3)"
            ]
          },
          "metadata": {
            "tags": []
          },
          "execution_count": 41
        }
      ]
    },
    {
      "cell_type": "code",
      "metadata": {
        "id": "W1dyglJG4kZy",
        "colab_type": "code",
        "colab": {
          "base_uri": "https://localhost:8080/",
          "height": 34
        },
        "outputId": "28a58288-bf65-4152-e4b1-4a866df1cc77"
      },
      "source": [
        "model.predict(img_data)"
      ],
      "execution_count": 42,
      "outputs": [
        {
          "output_type": "execute_result",
          "data": {
            "text/plain": [
              "array([[0.00299538, 0.01313259, 0.983872  ]], dtype=float32)"
            ]
          },
          "metadata": {
            "tags": []
          },
          "execution_count": 42
        }
      ]
    },
    {
      "cell_type": "code",
      "metadata": {
        "id": "DZ3ispuD4rXH",
        "colab_type": "code",
        "colab": {}
      },
      "source": [
        "a = np.argmax(model.predict(img_data),axis=1)"
      ],
      "execution_count": 43,
      "outputs": []
    },
    {
      "cell_type": "code",
      "metadata": {
        "id": "yIx8j1z943aR",
        "colab_type": "code",
        "colab": {
          "base_uri": "https://localhost:8080/",
          "height": 34
        },
        "outputId": "d7b3b85b-f4d5-46a7-9a91-c0c732d7ab5c"
      },
      "source": [
        "a"
      ],
      "execution_count": 44,
      "outputs": [
        {
          "output_type": "execute_result",
          "data": {
            "text/plain": [
              "array([2])"
            ]
          },
          "metadata": {
            "tags": []
          },
          "execution_count": 44
        }
      ]
    },
    {
      "cell_type": "code",
      "metadata": {
        "id": "sDCcVBcf445O",
        "colab_type": "code",
        "colab": {}
      },
      "source": [
        ""
      ],
      "execution_count": null,
      "outputs": []
    }
  ]
}