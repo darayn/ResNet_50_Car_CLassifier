{
  "nbformat": 4,
  "nbformat_minor": 0,
  "metadata": {
    "colab": {
      "name": "Car-Classifier Resnet50 Transfer Learning.ipynb",
      "provenance": [],
      "authorship_tag": "ABX9TyPgFMyMBianM3oXcwplxctp",
      "include_colab_link": true
    },
    "kernelspec": {
      "name": "python3",
      "display_name": "Python 3"
    },
    "accelerator": "GPU"
  },
  "cells": [
    {
      "cell_type": "markdown",
      "metadata": {
        "id": "view-in-github",
        "colab_type": "text"
      },
      "source": [
        "<a href=\"https://colab.research.google.com/github/darayn/ResNet_50_Car_CLassifier/blob/master/Car_Classifier_Resnet50_Transfer_Learning.ipynb\" target=\"_parent\"><img src=\"https://colab.research.google.com/assets/colab-badge.svg\" alt=\"Open In Colab\"/></a>"
      ]
    },
    {
      "cell_type": "code",
      "metadata": {
        "id": "-4Ex_ksVuANP",
        "colab_type": "code",
        "colab": {
          "base_uri": "https://localhost:8080/",
          "height": 122
        },
        "outputId": "33665013-2ad6-4435-f748-2fe8fd395560"
      },
      "source": [
        "from google.colab import drive\n",
        "drive.mount('/content/gdrive')\n"
      ],
      "execution_count": null,
      "outputs": [
        {
          "output_type": "stream",
          "text": [
            "Go to this URL in a browser: https://accounts.google.com/o/oauth2/auth?client_id=947318989803-6bn6qk8qdgf4n4g3pfee6491hc0brc4i.apps.googleusercontent.com&redirect_uri=urn%3aietf%3awg%3aoauth%3a2.0%3aoob&response_type=code&scope=email%20https%3a%2f%2fwww.googleapis.com%2fauth%2fdocs.test%20https%3a%2f%2fwww.googleapis.com%2fauth%2fdrive%20https%3a%2f%2fwww.googleapis.com%2fauth%2fdrive.photos.readonly%20https%3a%2f%2fwww.googleapis.com%2fauth%2fpeopleapi.readonly\n",
            "\n",
            "Enter your authorization code:\n",
            "··········\n",
            "Mounted at /content/gdrive\n"
          ],
          "name": "stdout"
        }
      ]
    },
    {
      "cell_type": "code",
      "metadata": {
        "id": "As0YwgVGu0i5",
        "colab_type": "code",
        "colab": {
          "base_uri": "https://localhost:8080/",
          "height": 1000
        },
        "outputId": "8e522d51-fcb6-4f94-ef63-78028d636ccd"
      },
      "source": [
        "!unzip gdrive/\"My Drive\"/Datasets.zip"
      ],
      "execution_count": null,
      "outputs": [
        {
          "output_type": "stream",
          "text": [
            "Archive:  gdrive/My Drive/Datasets.zip\n",
            "   creating: Datasets/Test/\n",
            "   creating: Datasets/Test/audi/\n",
            "  inflating: Datasets/Test/audi/21.jpg  \n",
            "  inflating: Datasets/Test/audi/22.jpg  \n",
            "  inflating: Datasets/Test/audi/23.jpg  \n",
            "  inflating: Datasets/Test/audi/24.jpg  \n",
            "  inflating: Datasets/Test/audi/25.jpg  \n",
            "  inflating: Datasets/Test/audi/26.jpg  \n",
            "  inflating: Datasets/Test/audi/27.jpg  \n",
            " extracting: Datasets/Test/audi/28.jpg  \n",
            "  inflating: Datasets/Test/audi/29.jpg  \n",
            "   creating: Datasets/Test/lamborghini/\n",
            "  inflating: Datasets/Test/lamborghini/1.jpg  \n",
            "  inflating: Datasets/Test/lamborghini/10.jpg  \n",
            "  inflating: Datasets/Test/lamborghini/11.jpg  \n",
            "  inflating: Datasets/Test/lamborghini/12.jpg  \n",
            "  inflating: Datasets/Test/lamborghini/13.jpg  \n",
            "  inflating: Datasets/Test/lamborghini/14.jpg  \n",
            "  inflating: Datasets/Test/lamborghini/15.jpg  \n",
            "  inflating: Datasets/Test/lamborghini/16.jpg  \n",
            "  inflating: Datasets/Test/lamborghini/17.jpg  \n",
            "  inflating: Datasets/Test/lamborghini/18.jpg  \n",
            "  inflating: Datasets/Test/lamborghini/19.jpg  \n",
            "  inflating: Datasets/Test/lamborghini/2.jpg  \n",
            "  inflating: Datasets/Test/lamborghini/20.jog.jpg  \n",
            "  inflating: Datasets/Test/lamborghini/21.jpg  \n",
            "  inflating: Datasets/Test/lamborghini/22.jpg  \n",
            "  inflating: Datasets/Test/lamborghini/23.jpg  \n",
            "  inflating: Datasets/Test/lamborghini/24.jpg  \n",
            "  inflating: Datasets/Test/lamborghini/25.jpg  \n",
            "  inflating: Datasets/Test/lamborghini/26.jpg  \n",
            "  inflating: Datasets/Test/lamborghini/27.jpg  \n",
            "  inflating: Datasets/Test/lamborghini/28.jpg  \n",
            "  inflating: Datasets/Test/lamborghini/29.jpg  \n",
            "  inflating: Datasets/Test/lamborghini/3.jpg  \n",
            "  inflating: Datasets/Test/lamborghini/30.jpg  \n",
            "  inflating: Datasets/Test/lamborghini/4.jpg  \n",
            "  inflating: Datasets/Test/lamborghini/5.jpg  \n",
            "  inflating: Datasets/Test/lamborghini/6.jpg  \n",
            "  inflating: Datasets/Test/lamborghini/7.jpg  \n",
            "  inflating: Datasets/Test/lamborghini/8.jpg  \n",
            "  inflating: Datasets/Test/lamborghini/9.jpg  \n",
            "   creating: Datasets/Test/mercedes/\n",
            "  inflating: Datasets/Test/mercedes/27.jpg  \n",
            "  inflating: Datasets/Test/mercedes/28.jpg  \n",
            "  inflating: Datasets/Test/mercedes/29.jpg  \n",
            "  inflating: Datasets/Test/mercedes/30.jpg  \n",
            "  inflating: Datasets/Test/mercedes/31.jpg  \n",
            "  inflating: Datasets/Test/mercedes/32.jpg  \n",
            "  inflating: Datasets/Test/mercedes/33.jpg  \n",
            "  inflating: Datasets/Test/mercedes/34.jpg  \n",
            "  inflating: Datasets/Test/mercedes/35.jpg  \n",
            "  inflating: Datasets/Test/mercedes/36.jpg  \n",
            "  inflating: Datasets/Test/mercedes/37.jpg  \n",
            "  inflating: Datasets/Test/mercedes/38.jpg  \n",
            "  inflating: Datasets/Test/mercedes/39.jpg  \n",
            "  inflating: Datasets/Test/mercedes/40.jpg  \n",
            "  inflating: Datasets/Test/mercedes/41.jpg  \n",
            "  inflating: Datasets/Test/mercedes/42.jpg  \n",
            "  inflating: Datasets/Test/mercedes/43.jpg  \n",
            "  inflating: Datasets/Test/mercedes/44.jpg  \n",
            "  inflating: Datasets/Test/mercedes/45.jpg  \n",
            "   creating: Datasets/Train/\n",
            "   creating: Datasets/Train/audi/\n",
            "  inflating: Datasets/Train/audi/1.jpg  \n",
            "  inflating: Datasets/Train/audi/10.jpg  \n",
            "  inflating: Datasets/Train/audi/11.jpg  \n",
            "  inflating: Datasets/Train/audi/12.jpg  \n",
            "  inflating: Datasets/Train/audi/13.jpg  \n",
            "  inflating: Datasets/Train/audi/14.jpg  \n",
            "  inflating: Datasets/Train/audi/15.jpg  \n",
            "  inflating: Datasets/Train/audi/16.jpg  \n",
            "  inflating: Datasets/Train/audi/17.jpg  \n",
            "  inflating: Datasets/Train/audi/18.jpg  \n",
            "  inflating: Datasets/Train/audi/19.jpg  \n",
            "  inflating: Datasets/Train/audi/2.jpg  \n",
            "  inflating: Datasets/Train/audi/20.jpg  \n",
            "  inflating: Datasets/Train/audi/3.jpg  \n",
            "  inflating: Datasets/Train/audi/4.jpg  \n",
            "  inflating: Datasets/Train/audi/5.jpg  \n",
            "  inflating: Datasets/Train/audi/6.jpg  \n",
            "  inflating: Datasets/Train/audi/7.jpg  \n",
            "  inflating: Datasets/Train/audi/8.jpg  \n",
            "  inflating: Datasets/Train/audi/9.jpg  \n",
            "   creating: Datasets/Train/lamborghini/\n",
            "  inflating: Datasets/Train/lamborghini/1.jpg  \n",
            "  inflating: Datasets/Train/lamborghini/10.jpg  \n",
            "  inflating: Datasets/Train/lamborghini/11.jpg  \n",
            "  inflating: Datasets/Train/lamborghini/12.jpg  \n",
            "  inflating: Datasets/Train/lamborghini/13.jpg  \n",
            "  inflating: Datasets/Train/lamborghini/14.jpg  \n",
            "  inflating: Datasets/Train/lamborghini/15.jpg  \n",
            "  inflating: Datasets/Train/lamborghini/16.jpg  \n",
            "  inflating: Datasets/Train/lamborghini/17.jpg  \n",
            "  inflating: Datasets/Train/lamborghini/18.jpg  \n",
            "  inflating: Datasets/Train/lamborghini/19.jpg  \n",
            "  inflating: Datasets/Train/lamborghini/2.jpg  \n",
            "  inflating: Datasets/Train/lamborghini/3.jpg  \n",
            "  inflating: Datasets/Train/lamborghini/4.jpg  \n",
            "  inflating: Datasets/Train/lamborghini/5.jpg  \n",
            "  inflating: Datasets/Train/lamborghini/6.jpg  \n",
            "  inflating: Datasets/Train/lamborghini/7.jpg  \n",
            "  inflating: Datasets/Train/lamborghini/8.jpg  \n",
            "  inflating: Datasets/Train/lamborghini/9.jpg  \n",
            "   creating: Datasets/Train/mercedes/\n",
            "  inflating: Datasets/Train/mercedes/1.jpg  \n",
            "  inflating: Datasets/Train/mercedes/10.jpg  \n",
            "  inflating: Datasets/Train/mercedes/11.jpg  \n",
            "  inflating: Datasets/Train/mercedes/12.jpg  \n",
            "  inflating: Datasets/Train/mercedes/13.jpg  \n",
            "  inflating: Datasets/Train/mercedes/14.jpg  \n",
            "  inflating: Datasets/Train/mercedes/15.jpg  \n",
            "  inflating: Datasets/Train/mercedes/16.jpg  \n",
            "  inflating: Datasets/Train/mercedes/17.jpg  \n",
            "  inflating: Datasets/Train/mercedes/18.jpg  \n",
            "  inflating: Datasets/Train/mercedes/19.jpg  \n",
            "  inflating: Datasets/Train/mercedes/2.jpg  \n",
            "  inflating: Datasets/Train/mercedes/20.jpg  \n",
            "  inflating: Datasets/Train/mercedes/21.jpg  \n",
            "  inflating: Datasets/Train/mercedes/22.jpg  \n",
            "  inflating: Datasets/Train/mercedes/23.jpg  \n",
            "  inflating: Datasets/Train/mercedes/24.jpg  \n",
            "  inflating: Datasets/Train/mercedes/25.jpg  \n",
            " extracting: Datasets/Train/mercedes/3.jpg  \n",
            " extracting: Datasets/Train/mercedes/4.jpg  \n",
            "  inflating: Datasets/Train/mercedes/5.jpg  \n",
            "  inflating: Datasets/Train/mercedes/6.jpg  \n",
            "  inflating: Datasets/Train/mercedes/7.jpg  \n",
            "  inflating: Datasets/Train/mercedes/8.jpf.jpg  \n",
            "  inflating: Datasets/Train/mercedes/9.jpg  \n"
          ],
          "name": "stdout"
        }
      ]
    },
    {
      "cell_type": "code",
      "metadata": {
        "id": "cIbqaGl9vnyP",
        "colab_type": "code",
        "colab": {}
      },
      "source": [
        "from tensorflow.keras.layers import Input ,Lambda, Dense, Flatten\n",
        "from tensorflow.keras.models import Model\n",
        "from tensorflow.keras.applications.resnet50 import ResNet50,preprocess_input\n",
        "from tensorflow.keras.preprocessing import image\n",
        "from tensorflow.keras.preprocessing.image import ImageDataGenerator,load_img\n",
        "from tensorflow.keras.models import Sequential\n",
        "import numpy as np\n",
        "from glob import glob\n",
        "import matplotlib.pyplot as plt"
      ],
      "execution_count": null,
      "outputs": []
    },
    {
      "cell_type": "code",
      "metadata": {
        "id": "NIAKse0Kw7bH",
        "colab_type": "code",
        "colab": {}
      },
      "source": [
        "IMAGE_SIZE = [224,224]\n",
        "\n",
        "train_path = '/content/Datasets/Train'\n",
        "valid_path = '/content/Datasets/Test'"
      ],
      "execution_count": null,
      "outputs": []
    },
    {
      "cell_type": "code",
      "metadata": {
        "id": "a1Wki0wSxHc3",
        "colab_type": "code",
        "colab": {
          "base_uri": "https://localhost:8080/",
          "height": 71
        },
        "outputId": "414398ca-08d6-48b3-fa48-735facc316a4"
      },
      "source": [
        "resnet = ResNet50(input_shape=IMAGE_SIZE +[3],weights=\"imagenet\",include_top=False)"
      ],
      "execution_count": null,
      "outputs": [
        {
          "output_type": "stream",
          "text": [
            "Downloading data from https://storage.googleapis.com/tensorflow/keras-applications/resnet/resnet50_weights_tf_dim_ordering_tf_kernels_notop.h5\n",
            "94773248/94765736 [==============================] - 1s 0us/step\n"
          ],
          "name": "stdout"
        }
      ]
    },
    {
      "cell_type": "code",
      "metadata": {
        "id": "HJndXfOPxL9z",
        "colab_type": "code",
        "colab": {}
      },
      "source": [
        "for layers in resnet.layers:\n",
        "    layers.trainable = False"
      ],
      "execution_count": null,
      "outputs": []
    },
    {
      "cell_type": "code",
      "metadata": {
        "id": "WFwXE5nfxQ8w",
        "colab_type": "code",
        "colab": {}
      },
      "source": [
        "folders = glob('Datasets/Train/*')"
      ],
      "execution_count": null,
      "outputs": []
    },
    {
      "cell_type": "code",
      "metadata": {
        "id": "P_SXRs9NxTLY",
        "colab_type": "code",
        "colab": {}
      },
      "source": [
        "X = Flatten()(resnet.output)\n"
      ],
      "execution_count": null,
      "outputs": []
    },
    {
      "cell_type": "code",
      "metadata": {
        "id": "iRSN1DxRxW0H",
        "colab_type": "code",
        "colab": {}
      },
      "source": [
        "prediction = Dense(len(folders),activation='softmax')(X)\n",
        "\n",
        "model = Model(inputs = resnet.input, outputs = prediction )"
      ],
      "execution_count": null,
      "outputs": []
    },
    {
      "cell_type": "code",
      "metadata": {
        "id": "MQQAm9tGxZ4e",
        "colab_type": "code",
        "colab": {
          "base_uri": "https://localhost:8080/",
          "height": 1000
        },
        "outputId": "837d65c8-509d-4cde-d6e1-fc99d286ea41"
      },
      "source": [
        "model.summary()"
      ],
      "execution_count": null,
      "outputs": [
        {
          "output_type": "stream",
          "text": [
            "Model: \"model\"\n",
            "__________________________________________________________________________________________________\n",
            "Layer (type)                    Output Shape         Param #     Connected to                     \n",
            "==================================================================================================\n",
            "input_1 (InputLayer)            [(None, 224, 224, 3) 0                                            \n",
            "__________________________________________________________________________________________________\n",
            "conv1_pad (ZeroPadding2D)       (None, 230, 230, 3)  0           input_1[0][0]                    \n",
            "__________________________________________________________________________________________________\n",
            "conv1_conv (Conv2D)             (None, 112, 112, 64) 9472        conv1_pad[0][0]                  \n",
            "__________________________________________________________________________________________________\n",
            "conv1_bn (BatchNormalization)   (None, 112, 112, 64) 256         conv1_conv[0][0]                 \n",
            "__________________________________________________________________________________________________\n",
            "conv1_relu (Activation)         (None, 112, 112, 64) 0           conv1_bn[0][0]                   \n",
            "__________________________________________________________________________________________________\n",
            "pool1_pad (ZeroPadding2D)       (None, 114, 114, 64) 0           conv1_relu[0][0]                 \n",
            "__________________________________________________________________________________________________\n",
            "pool1_pool (MaxPooling2D)       (None, 56, 56, 64)   0           pool1_pad[0][0]                  \n",
            "__________________________________________________________________________________________________\n",
            "conv2_block1_1_conv (Conv2D)    (None, 56, 56, 64)   4160        pool1_pool[0][0]                 \n",
            "__________________________________________________________________________________________________\n",
            "conv2_block1_1_bn (BatchNormali (None, 56, 56, 64)   256         conv2_block1_1_conv[0][0]        \n",
            "__________________________________________________________________________________________________\n",
            "conv2_block1_1_relu (Activation (None, 56, 56, 64)   0           conv2_block1_1_bn[0][0]          \n",
            "__________________________________________________________________________________________________\n",
            "conv2_block1_2_conv (Conv2D)    (None, 56, 56, 64)   36928       conv2_block1_1_relu[0][0]        \n",
            "__________________________________________________________________________________________________\n",
            "conv2_block1_2_bn (BatchNormali (None, 56, 56, 64)   256         conv2_block1_2_conv[0][0]        \n",
            "__________________________________________________________________________________________________\n",
            "conv2_block1_2_relu (Activation (None, 56, 56, 64)   0           conv2_block1_2_bn[0][0]          \n",
            "__________________________________________________________________________________________________\n",
            "conv2_block1_0_conv (Conv2D)    (None, 56, 56, 256)  16640       pool1_pool[0][0]                 \n",
            "__________________________________________________________________________________________________\n",
            "conv2_block1_3_conv (Conv2D)    (None, 56, 56, 256)  16640       conv2_block1_2_relu[0][0]        \n",
            "__________________________________________________________________________________________________\n",
            "conv2_block1_0_bn (BatchNormali (None, 56, 56, 256)  1024        conv2_block1_0_conv[0][0]        \n",
            "__________________________________________________________________________________________________\n",
            "conv2_block1_3_bn (BatchNormali (None, 56, 56, 256)  1024        conv2_block1_3_conv[0][0]        \n",
            "__________________________________________________________________________________________________\n",
            "conv2_block1_add (Add)          (None, 56, 56, 256)  0           conv2_block1_0_bn[0][0]          \n",
            "                                                                 conv2_block1_3_bn[0][0]          \n",
            "__________________________________________________________________________________________________\n",
            "conv2_block1_out (Activation)   (None, 56, 56, 256)  0           conv2_block1_add[0][0]           \n",
            "__________________________________________________________________________________________________\n",
            "conv2_block2_1_conv (Conv2D)    (None, 56, 56, 64)   16448       conv2_block1_out[0][0]           \n",
            "__________________________________________________________________________________________________\n",
            "conv2_block2_1_bn (BatchNormali (None, 56, 56, 64)   256         conv2_block2_1_conv[0][0]        \n",
            "__________________________________________________________________________________________________\n",
            "conv2_block2_1_relu (Activation (None, 56, 56, 64)   0           conv2_block2_1_bn[0][0]          \n",
            "__________________________________________________________________________________________________\n",
            "conv2_block2_2_conv (Conv2D)    (None, 56, 56, 64)   36928       conv2_block2_1_relu[0][0]        \n",
            "__________________________________________________________________________________________________\n",
            "conv2_block2_2_bn (BatchNormali (None, 56, 56, 64)   256         conv2_block2_2_conv[0][0]        \n",
            "__________________________________________________________________________________________________\n",
            "conv2_block2_2_relu (Activation (None, 56, 56, 64)   0           conv2_block2_2_bn[0][0]          \n",
            "__________________________________________________________________________________________________\n",
            "conv2_block2_3_conv (Conv2D)    (None, 56, 56, 256)  16640       conv2_block2_2_relu[0][0]        \n",
            "__________________________________________________________________________________________________\n",
            "conv2_block2_3_bn (BatchNormali (None, 56, 56, 256)  1024        conv2_block2_3_conv[0][0]        \n",
            "__________________________________________________________________________________________________\n",
            "conv2_block2_add (Add)          (None, 56, 56, 256)  0           conv2_block1_out[0][0]           \n",
            "                                                                 conv2_block2_3_bn[0][0]          \n",
            "__________________________________________________________________________________________________\n",
            "conv2_block2_out (Activation)   (None, 56, 56, 256)  0           conv2_block2_add[0][0]           \n",
            "__________________________________________________________________________________________________\n",
            "conv2_block3_1_conv (Conv2D)    (None, 56, 56, 64)   16448       conv2_block2_out[0][0]           \n",
            "__________________________________________________________________________________________________\n",
            "conv2_block3_1_bn (BatchNormali (None, 56, 56, 64)   256         conv2_block3_1_conv[0][0]        \n",
            "__________________________________________________________________________________________________\n",
            "conv2_block3_1_relu (Activation (None, 56, 56, 64)   0           conv2_block3_1_bn[0][0]          \n",
            "__________________________________________________________________________________________________\n",
            "conv2_block3_2_conv (Conv2D)    (None, 56, 56, 64)   36928       conv2_block3_1_relu[0][0]        \n",
            "__________________________________________________________________________________________________\n",
            "conv2_block3_2_bn (BatchNormali (None, 56, 56, 64)   256         conv2_block3_2_conv[0][0]        \n",
            "__________________________________________________________________________________________________\n",
            "conv2_block3_2_relu (Activation (None, 56, 56, 64)   0           conv2_block3_2_bn[0][0]          \n",
            "__________________________________________________________________________________________________\n",
            "conv2_block3_3_conv (Conv2D)    (None, 56, 56, 256)  16640       conv2_block3_2_relu[0][0]        \n",
            "__________________________________________________________________________________________________\n",
            "conv2_block3_3_bn (BatchNormali (None, 56, 56, 256)  1024        conv2_block3_3_conv[0][0]        \n",
            "__________________________________________________________________________________________________\n",
            "conv2_block3_add (Add)          (None, 56, 56, 256)  0           conv2_block2_out[0][0]           \n",
            "                                                                 conv2_block3_3_bn[0][0]          \n",
            "__________________________________________________________________________________________________\n",
            "conv2_block3_out (Activation)   (None, 56, 56, 256)  0           conv2_block3_add[0][0]           \n",
            "__________________________________________________________________________________________________\n",
            "conv3_block1_1_conv (Conv2D)    (None, 28, 28, 128)  32896       conv2_block3_out[0][0]           \n",
            "__________________________________________________________________________________________________\n",
            "conv3_block1_1_bn (BatchNormali (None, 28, 28, 128)  512         conv3_block1_1_conv[0][0]        \n",
            "__________________________________________________________________________________________________\n",
            "conv3_block1_1_relu (Activation (None, 28, 28, 128)  0           conv3_block1_1_bn[0][0]          \n",
            "__________________________________________________________________________________________________\n",
            "conv3_block1_2_conv (Conv2D)    (None, 28, 28, 128)  147584      conv3_block1_1_relu[0][0]        \n",
            "__________________________________________________________________________________________________\n",
            "conv3_block1_2_bn (BatchNormali (None, 28, 28, 128)  512         conv3_block1_2_conv[0][0]        \n",
            "__________________________________________________________________________________________________\n",
            "conv3_block1_2_relu (Activation (None, 28, 28, 128)  0           conv3_block1_2_bn[0][0]          \n",
            "__________________________________________________________________________________________________\n",
            "conv3_block1_0_conv (Conv2D)    (None, 28, 28, 512)  131584      conv2_block3_out[0][0]           \n",
            "__________________________________________________________________________________________________\n",
            "conv3_block1_3_conv (Conv2D)    (None, 28, 28, 512)  66048       conv3_block1_2_relu[0][0]        \n",
            "__________________________________________________________________________________________________\n",
            "conv3_block1_0_bn (BatchNormali (None, 28, 28, 512)  2048        conv3_block1_0_conv[0][0]        \n",
            "__________________________________________________________________________________________________\n",
            "conv3_block1_3_bn (BatchNormali (None, 28, 28, 512)  2048        conv3_block1_3_conv[0][0]        \n",
            "__________________________________________________________________________________________________\n",
            "conv3_block1_add (Add)          (None, 28, 28, 512)  0           conv3_block1_0_bn[0][0]          \n",
            "                                                                 conv3_block1_3_bn[0][0]          \n",
            "__________________________________________________________________________________________________\n",
            "conv3_block1_out (Activation)   (None, 28, 28, 512)  0           conv3_block1_add[0][0]           \n",
            "__________________________________________________________________________________________________\n",
            "conv3_block2_1_conv (Conv2D)    (None, 28, 28, 128)  65664       conv3_block1_out[0][0]           \n",
            "__________________________________________________________________________________________________\n",
            "conv3_block2_1_bn (BatchNormali (None, 28, 28, 128)  512         conv3_block2_1_conv[0][0]        \n",
            "__________________________________________________________________________________________________\n",
            "conv3_block2_1_relu (Activation (None, 28, 28, 128)  0           conv3_block2_1_bn[0][0]          \n",
            "__________________________________________________________________________________________________\n",
            "conv3_block2_2_conv (Conv2D)    (None, 28, 28, 128)  147584      conv3_block2_1_relu[0][0]        \n",
            "__________________________________________________________________________________________________\n",
            "conv3_block2_2_bn (BatchNormali (None, 28, 28, 128)  512         conv3_block2_2_conv[0][0]        \n",
            "__________________________________________________________________________________________________\n",
            "conv3_block2_2_relu (Activation (None, 28, 28, 128)  0           conv3_block2_2_bn[0][0]          \n",
            "__________________________________________________________________________________________________\n",
            "conv3_block2_3_conv (Conv2D)    (None, 28, 28, 512)  66048       conv3_block2_2_relu[0][0]        \n",
            "__________________________________________________________________________________________________\n",
            "conv3_block2_3_bn (BatchNormali (None, 28, 28, 512)  2048        conv3_block2_3_conv[0][0]        \n",
            "__________________________________________________________________________________________________\n",
            "conv3_block2_add (Add)          (None, 28, 28, 512)  0           conv3_block1_out[0][0]           \n",
            "                                                                 conv3_block2_3_bn[0][0]          \n",
            "__________________________________________________________________________________________________\n",
            "conv3_block2_out (Activation)   (None, 28, 28, 512)  0           conv3_block2_add[0][0]           \n",
            "__________________________________________________________________________________________________\n",
            "conv3_block3_1_conv (Conv2D)    (None, 28, 28, 128)  65664       conv3_block2_out[0][0]           \n",
            "__________________________________________________________________________________________________\n",
            "conv3_block3_1_bn (BatchNormali (None, 28, 28, 128)  512         conv3_block3_1_conv[0][0]        \n",
            "__________________________________________________________________________________________________\n",
            "conv3_block3_1_relu (Activation (None, 28, 28, 128)  0           conv3_block3_1_bn[0][0]          \n",
            "__________________________________________________________________________________________________\n",
            "conv3_block3_2_conv (Conv2D)    (None, 28, 28, 128)  147584      conv3_block3_1_relu[0][0]        \n",
            "__________________________________________________________________________________________________\n",
            "conv3_block3_2_bn (BatchNormali (None, 28, 28, 128)  512         conv3_block3_2_conv[0][0]        \n",
            "__________________________________________________________________________________________________\n",
            "conv3_block3_2_relu (Activation (None, 28, 28, 128)  0           conv3_block3_2_bn[0][0]          \n",
            "__________________________________________________________________________________________________\n",
            "conv3_block3_3_conv (Conv2D)    (None, 28, 28, 512)  66048       conv3_block3_2_relu[0][0]        \n",
            "__________________________________________________________________________________________________\n",
            "conv3_block3_3_bn (BatchNormali (None, 28, 28, 512)  2048        conv3_block3_3_conv[0][0]        \n",
            "__________________________________________________________________________________________________\n",
            "conv3_block3_add (Add)          (None, 28, 28, 512)  0           conv3_block2_out[0][0]           \n",
            "                                                                 conv3_block3_3_bn[0][0]          \n",
            "__________________________________________________________________________________________________\n",
            "conv3_block3_out (Activation)   (None, 28, 28, 512)  0           conv3_block3_add[0][0]           \n",
            "__________________________________________________________________________________________________\n",
            "conv3_block4_1_conv (Conv2D)    (None, 28, 28, 128)  65664       conv3_block3_out[0][0]           \n",
            "__________________________________________________________________________________________________\n",
            "conv3_block4_1_bn (BatchNormali (None, 28, 28, 128)  512         conv3_block4_1_conv[0][0]        \n",
            "__________________________________________________________________________________________________\n",
            "conv3_block4_1_relu (Activation (None, 28, 28, 128)  0           conv3_block4_1_bn[0][0]          \n",
            "__________________________________________________________________________________________________\n",
            "conv3_block4_2_conv (Conv2D)    (None, 28, 28, 128)  147584      conv3_block4_1_relu[0][0]        \n",
            "__________________________________________________________________________________________________\n",
            "conv3_block4_2_bn (BatchNormali (None, 28, 28, 128)  512         conv3_block4_2_conv[0][0]        \n",
            "__________________________________________________________________________________________________\n",
            "conv3_block4_2_relu (Activation (None, 28, 28, 128)  0           conv3_block4_2_bn[0][0]          \n",
            "__________________________________________________________________________________________________\n",
            "conv3_block4_3_conv (Conv2D)    (None, 28, 28, 512)  66048       conv3_block4_2_relu[0][0]        \n",
            "__________________________________________________________________________________________________\n",
            "conv3_block4_3_bn (BatchNormali (None, 28, 28, 512)  2048        conv3_block4_3_conv[0][0]        \n",
            "__________________________________________________________________________________________________\n",
            "conv3_block4_add (Add)          (None, 28, 28, 512)  0           conv3_block3_out[0][0]           \n",
            "                                                                 conv3_block4_3_bn[0][0]          \n",
            "__________________________________________________________________________________________________\n",
            "conv3_block4_out (Activation)   (None, 28, 28, 512)  0           conv3_block4_add[0][0]           \n",
            "__________________________________________________________________________________________________\n",
            "conv4_block1_1_conv (Conv2D)    (None, 14, 14, 256)  131328      conv3_block4_out[0][0]           \n",
            "__________________________________________________________________________________________________\n",
            "conv4_block1_1_bn (BatchNormali (None, 14, 14, 256)  1024        conv4_block1_1_conv[0][0]        \n",
            "__________________________________________________________________________________________________\n",
            "conv4_block1_1_relu (Activation (None, 14, 14, 256)  0           conv4_block1_1_bn[0][0]          \n",
            "__________________________________________________________________________________________________\n",
            "conv4_block1_2_conv (Conv2D)    (None, 14, 14, 256)  590080      conv4_block1_1_relu[0][0]        \n",
            "__________________________________________________________________________________________________\n",
            "conv4_block1_2_bn (BatchNormali (None, 14, 14, 256)  1024        conv4_block1_2_conv[0][0]        \n",
            "__________________________________________________________________________________________________\n",
            "conv4_block1_2_relu (Activation (None, 14, 14, 256)  0           conv4_block1_2_bn[0][0]          \n",
            "__________________________________________________________________________________________________\n",
            "conv4_block1_0_conv (Conv2D)    (None, 14, 14, 1024) 525312      conv3_block4_out[0][0]           \n",
            "__________________________________________________________________________________________________\n",
            "conv4_block1_3_conv (Conv2D)    (None, 14, 14, 1024) 263168      conv4_block1_2_relu[0][0]        \n",
            "__________________________________________________________________________________________________\n",
            "conv4_block1_0_bn (BatchNormali (None, 14, 14, 1024) 4096        conv4_block1_0_conv[0][0]        \n",
            "__________________________________________________________________________________________________\n",
            "conv4_block1_3_bn (BatchNormali (None, 14, 14, 1024) 4096        conv4_block1_3_conv[0][0]        \n",
            "__________________________________________________________________________________________________\n",
            "conv4_block1_add (Add)          (None, 14, 14, 1024) 0           conv4_block1_0_bn[0][0]          \n",
            "                                                                 conv4_block1_3_bn[0][0]          \n",
            "__________________________________________________________________________________________________\n",
            "conv4_block1_out (Activation)   (None, 14, 14, 1024) 0           conv4_block1_add[0][0]           \n",
            "__________________________________________________________________________________________________\n",
            "conv4_block2_1_conv (Conv2D)    (None, 14, 14, 256)  262400      conv4_block1_out[0][0]           \n",
            "__________________________________________________________________________________________________\n",
            "conv4_block2_1_bn (BatchNormali (None, 14, 14, 256)  1024        conv4_block2_1_conv[0][0]        \n",
            "__________________________________________________________________________________________________\n",
            "conv4_block2_1_relu (Activation (None, 14, 14, 256)  0           conv4_block2_1_bn[0][0]          \n",
            "__________________________________________________________________________________________________\n",
            "conv4_block2_2_conv (Conv2D)    (None, 14, 14, 256)  590080      conv4_block2_1_relu[0][0]        \n",
            "__________________________________________________________________________________________________\n",
            "conv4_block2_2_bn (BatchNormali (None, 14, 14, 256)  1024        conv4_block2_2_conv[0][0]        \n",
            "__________________________________________________________________________________________________\n",
            "conv4_block2_2_relu (Activation (None, 14, 14, 256)  0           conv4_block2_2_bn[0][0]          \n",
            "__________________________________________________________________________________________________\n",
            "conv4_block2_3_conv (Conv2D)    (None, 14, 14, 1024) 263168      conv4_block2_2_relu[0][0]        \n",
            "__________________________________________________________________________________________________\n",
            "conv4_block2_3_bn (BatchNormali (None, 14, 14, 1024) 4096        conv4_block2_3_conv[0][0]        \n",
            "__________________________________________________________________________________________________\n",
            "conv4_block2_add (Add)          (None, 14, 14, 1024) 0           conv4_block1_out[0][0]           \n",
            "                                                                 conv4_block2_3_bn[0][0]          \n",
            "__________________________________________________________________________________________________\n",
            "conv4_block2_out (Activation)   (None, 14, 14, 1024) 0           conv4_block2_add[0][0]           \n",
            "__________________________________________________________________________________________________\n",
            "conv4_block3_1_conv (Conv2D)    (None, 14, 14, 256)  262400      conv4_block2_out[0][0]           \n",
            "__________________________________________________________________________________________________\n",
            "conv4_block3_1_bn (BatchNormali (None, 14, 14, 256)  1024        conv4_block3_1_conv[0][0]        \n",
            "__________________________________________________________________________________________________\n",
            "conv4_block3_1_relu (Activation (None, 14, 14, 256)  0           conv4_block3_1_bn[0][0]          \n",
            "__________________________________________________________________________________________________\n",
            "conv4_block3_2_conv (Conv2D)    (None, 14, 14, 256)  590080      conv4_block3_1_relu[0][0]        \n",
            "__________________________________________________________________________________________________\n",
            "conv4_block3_2_bn (BatchNormali (None, 14, 14, 256)  1024        conv4_block3_2_conv[0][0]        \n",
            "__________________________________________________________________________________________________\n",
            "conv4_block3_2_relu (Activation (None, 14, 14, 256)  0           conv4_block3_2_bn[0][0]          \n",
            "__________________________________________________________________________________________________\n",
            "conv4_block3_3_conv (Conv2D)    (None, 14, 14, 1024) 263168      conv4_block3_2_relu[0][0]        \n",
            "__________________________________________________________________________________________________\n",
            "conv4_block3_3_bn (BatchNormali (None, 14, 14, 1024) 4096        conv4_block3_3_conv[0][0]        \n",
            "__________________________________________________________________________________________________\n",
            "conv4_block3_add (Add)          (None, 14, 14, 1024) 0           conv4_block2_out[0][0]           \n",
            "                                                                 conv4_block3_3_bn[0][0]          \n",
            "__________________________________________________________________________________________________\n",
            "conv4_block3_out (Activation)   (None, 14, 14, 1024) 0           conv4_block3_add[0][0]           \n",
            "__________________________________________________________________________________________________\n",
            "conv4_block4_1_conv (Conv2D)    (None, 14, 14, 256)  262400      conv4_block3_out[0][0]           \n",
            "__________________________________________________________________________________________________\n",
            "conv4_block4_1_bn (BatchNormali (None, 14, 14, 256)  1024        conv4_block4_1_conv[0][0]        \n",
            "__________________________________________________________________________________________________\n",
            "conv4_block4_1_relu (Activation (None, 14, 14, 256)  0           conv4_block4_1_bn[0][0]          \n",
            "__________________________________________________________________________________________________\n",
            "conv4_block4_2_conv (Conv2D)    (None, 14, 14, 256)  590080      conv4_block4_1_relu[0][0]        \n",
            "__________________________________________________________________________________________________\n",
            "conv4_block4_2_bn (BatchNormali (None, 14, 14, 256)  1024        conv4_block4_2_conv[0][0]        \n",
            "__________________________________________________________________________________________________\n",
            "conv4_block4_2_relu (Activation (None, 14, 14, 256)  0           conv4_block4_2_bn[0][0]          \n",
            "__________________________________________________________________________________________________\n",
            "conv4_block4_3_conv (Conv2D)    (None, 14, 14, 1024) 263168      conv4_block4_2_relu[0][0]        \n",
            "__________________________________________________________________________________________________\n",
            "conv4_block4_3_bn (BatchNormali (None, 14, 14, 1024) 4096        conv4_block4_3_conv[0][0]        \n",
            "__________________________________________________________________________________________________\n",
            "conv4_block4_add (Add)          (None, 14, 14, 1024) 0           conv4_block3_out[0][0]           \n",
            "                                                                 conv4_block4_3_bn[0][0]          \n",
            "__________________________________________________________________________________________________\n",
            "conv4_block4_out (Activation)   (None, 14, 14, 1024) 0           conv4_block4_add[0][0]           \n",
            "__________________________________________________________________________________________________\n",
            "conv4_block5_1_conv (Conv2D)    (None, 14, 14, 256)  262400      conv4_block4_out[0][0]           \n",
            "__________________________________________________________________________________________________\n",
            "conv4_block5_1_bn (BatchNormali (None, 14, 14, 256)  1024        conv4_block5_1_conv[0][0]        \n",
            "__________________________________________________________________________________________________\n",
            "conv4_block5_1_relu (Activation (None, 14, 14, 256)  0           conv4_block5_1_bn[0][0]          \n",
            "__________________________________________________________________________________________________\n",
            "conv4_block5_2_conv (Conv2D)    (None, 14, 14, 256)  590080      conv4_block5_1_relu[0][0]        \n",
            "__________________________________________________________________________________________________\n",
            "conv4_block5_2_bn (BatchNormali (None, 14, 14, 256)  1024        conv4_block5_2_conv[0][0]        \n",
            "__________________________________________________________________________________________________\n",
            "conv4_block5_2_relu (Activation (None, 14, 14, 256)  0           conv4_block5_2_bn[0][0]          \n",
            "__________________________________________________________________________________________________\n",
            "conv4_block5_3_conv (Conv2D)    (None, 14, 14, 1024) 263168      conv4_block5_2_relu[0][0]        \n",
            "__________________________________________________________________________________________________\n",
            "conv4_block5_3_bn (BatchNormali (None, 14, 14, 1024) 4096        conv4_block5_3_conv[0][0]        \n",
            "__________________________________________________________________________________________________\n",
            "conv4_block5_add (Add)          (None, 14, 14, 1024) 0           conv4_block4_out[0][0]           \n",
            "                                                                 conv4_block5_3_bn[0][0]          \n",
            "__________________________________________________________________________________________________\n",
            "conv4_block5_out (Activation)   (None, 14, 14, 1024) 0           conv4_block5_add[0][0]           \n",
            "__________________________________________________________________________________________________\n",
            "conv4_block6_1_conv (Conv2D)    (None, 14, 14, 256)  262400      conv4_block5_out[0][0]           \n",
            "__________________________________________________________________________________________________\n",
            "conv4_block6_1_bn (BatchNormali (None, 14, 14, 256)  1024        conv4_block6_1_conv[0][0]        \n",
            "__________________________________________________________________________________________________\n",
            "conv4_block6_1_relu (Activation (None, 14, 14, 256)  0           conv4_block6_1_bn[0][0]          \n",
            "__________________________________________________________________________________________________\n",
            "conv4_block6_2_conv (Conv2D)    (None, 14, 14, 256)  590080      conv4_block6_1_relu[0][0]        \n",
            "__________________________________________________________________________________________________\n",
            "conv4_block6_2_bn (BatchNormali (None, 14, 14, 256)  1024        conv4_block6_2_conv[0][0]        \n",
            "__________________________________________________________________________________________________\n",
            "conv4_block6_2_relu (Activation (None, 14, 14, 256)  0           conv4_block6_2_bn[0][0]          \n",
            "__________________________________________________________________________________________________\n",
            "conv4_block6_3_conv (Conv2D)    (None, 14, 14, 1024) 263168      conv4_block6_2_relu[0][0]        \n",
            "__________________________________________________________________________________________________\n",
            "conv4_block6_3_bn (BatchNormali (None, 14, 14, 1024) 4096        conv4_block6_3_conv[0][0]        \n",
            "__________________________________________________________________________________________________\n",
            "conv4_block6_add (Add)          (None, 14, 14, 1024) 0           conv4_block5_out[0][0]           \n",
            "                                                                 conv4_block6_3_bn[0][0]          \n",
            "__________________________________________________________________________________________________\n",
            "conv4_block6_out (Activation)   (None, 14, 14, 1024) 0           conv4_block6_add[0][0]           \n",
            "__________________________________________________________________________________________________\n",
            "conv5_block1_1_conv (Conv2D)    (None, 7, 7, 512)    524800      conv4_block6_out[0][0]           \n",
            "__________________________________________________________________________________________________\n",
            "conv5_block1_1_bn (BatchNormali (None, 7, 7, 512)    2048        conv5_block1_1_conv[0][0]        \n",
            "__________________________________________________________________________________________________\n",
            "conv5_block1_1_relu (Activation (None, 7, 7, 512)    0           conv5_block1_1_bn[0][0]          \n",
            "__________________________________________________________________________________________________\n",
            "conv5_block1_2_conv (Conv2D)    (None, 7, 7, 512)    2359808     conv5_block1_1_relu[0][0]        \n",
            "__________________________________________________________________________________________________\n",
            "conv5_block1_2_bn (BatchNormali (None, 7, 7, 512)    2048        conv5_block1_2_conv[0][0]        \n",
            "__________________________________________________________________________________________________\n",
            "conv5_block1_2_relu (Activation (None, 7, 7, 512)    0           conv5_block1_2_bn[0][0]          \n",
            "__________________________________________________________________________________________________\n",
            "conv5_block1_0_conv (Conv2D)    (None, 7, 7, 2048)   2099200     conv4_block6_out[0][0]           \n",
            "__________________________________________________________________________________________________\n",
            "conv5_block1_3_conv (Conv2D)    (None, 7, 7, 2048)   1050624     conv5_block1_2_relu[0][0]        \n",
            "__________________________________________________________________________________________________\n",
            "conv5_block1_0_bn (BatchNormali (None, 7, 7, 2048)   8192        conv5_block1_0_conv[0][0]        \n",
            "__________________________________________________________________________________________________\n",
            "conv5_block1_3_bn (BatchNormali (None, 7, 7, 2048)   8192        conv5_block1_3_conv[0][0]        \n",
            "__________________________________________________________________________________________________\n",
            "conv5_block1_add (Add)          (None, 7, 7, 2048)   0           conv5_block1_0_bn[0][0]          \n",
            "                                                                 conv5_block1_3_bn[0][0]          \n",
            "__________________________________________________________________________________________________\n",
            "conv5_block1_out (Activation)   (None, 7, 7, 2048)   0           conv5_block1_add[0][0]           \n",
            "__________________________________________________________________________________________________\n",
            "conv5_block2_1_conv (Conv2D)    (None, 7, 7, 512)    1049088     conv5_block1_out[0][0]           \n",
            "__________________________________________________________________________________________________\n",
            "conv5_block2_1_bn (BatchNormali (None, 7, 7, 512)    2048        conv5_block2_1_conv[0][0]        \n",
            "__________________________________________________________________________________________________\n",
            "conv5_block2_1_relu (Activation (None, 7, 7, 512)    0           conv5_block2_1_bn[0][0]          \n",
            "__________________________________________________________________________________________________\n",
            "conv5_block2_2_conv (Conv2D)    (None, 7, 7, 512)    2359808     conv5_block2_1_relu[0][0]        \n",
            "__________________________________________________________________________________________________\n",
            "conv5_block2_2_bn (BatchNormali (None, 7, 7, 512)    2048        conv5_block2_2_conv[0][0]        \n",
            "__________________________________________________________________________________________________\n",
            "conv5_block2_2_relu (Activation (None, 7, 7, 512)    0           conv5_block2_2_bn[0][0]          \n",
            "__________________________________________________________________________________________________\n",
            "conv5_block2_3_conv (Conv2D)    (None, 7, 7, 2048)   1050624     conv5_block2_2_relu[0][0]        \n",
            "__________________________________________________________________________________________________\n",
            "conv5_block2_3_bn (BatchNormali (None, 7, 7, 2048)   8192        conv5_block2_3_conv[0][0]        \n",
            "__________________________________________________________________________________________________\n",
            "conv5_block2_add (Add)          (None, 7, 7, 2048)   0           conv5_block1_out[0][0]           \n",
            "                                                                 conv5_block2_3_bn[0][0]          \n",
            "__________________________________________________________________________________________________\n",
            "conv5_block2_out (Activation)   (None, 7, 7, 2048)   0           conv5_block2_add[0][0]           \n",
            "__________________________________________________________________________________________________\n",
            "conv5_block3_1_conv (Conv2D)    (None, 7, 7, 512)    1049088     conv5_block2_out[0][0]           \n",
            "__________________________________________________________________________________________________\n",
            "conv5_block3_1_bn (BatchNormali (None, 7, 7, 512)    2048        conv5_block3_1_conv[0][0]        \n",
            "__________________________________________________________________________________________________\n",
            "conv5_block3_1_relu (Activation (None, 7, 7, 512)    0           conv5_block3_1_bn[0][0]          \n",
            "__________________________________________________________________________________________________\n",
            "conv5_block3_2_conv (Conv2D)    (None, 7, 7, 512)    2359808     conv5_block3_1_relu[0][0]        \n",
            "__________________________________________________________________________________________________\n",
            "conv5_block3_2_bn (BatchNormali (None, 7, 7, 512)    2048        conv5_block3_2_conv[0][0]        \n",
            "__________________________________________________________________________________________________\n",
            "conv5_block3_2_relu (Activation (None, 7, 7, 512)    0           conv5_block3_2_bn[0][0]          \n",
            "__________________________________________________________________________________________________\n",
            "conv5_block3_3_conv (Conv2D)    (None, 7, 7, 2048)   1050624     conv5_block3_2_relu[0][0]        \n",
            "__________________________________________________________________________________________________\n",
            "conv5_block3_3_bn (BatchNormali (None, 7, 7, 2048)   8192        conv5_block3_3_conv[0][0]        \n",
            "__________________________________________________________________________________________________\n",
            "conv5_block3_add (Add)          (None, 7, 7, 2048)   0           conv5_block2_out[0][0]           \n",
            "                                                                 conv5_block3_3_bn[0][0]          \n",
            "__________________________________________________________________________________________________\n",
            "conv5_block3_out (Activation)   (None, 7, 7, 2048)   0           conv5_block3_add[0][0]           \n",
            "__________________________________________________________________________________________________\n",
            "flatten (Flatten)               (None, 100352)       0           conv5_block3_out[0][0]           \n",
            "__________________________________________________________________________________________________\n",
            "dense (Dense)                   (None, 3)            301059      flatten[0][0]                    \n",
            "==================================================================================================\n",
            "Total params: 23,888,771\n",
            "Trainable params: 301,059\n",
            "Non-trainable params: 23,587,712\n",
            "__________________________________________________________________________________________________\n"
          ],
          "name": "stdout"
        }
      ]
    },
    {
      "cell_type": "code",
      "metadata": {
        "id": "GgE3f6Aoxctx",
        "colab_type": "code",
        "colab": {}
      },
      "source": [
        "model.compile(\n",
        "    loss='categorical_crossentropy',\n",
        "    optimizer = 'adam',\n",
        "    metrics = ['accuracy']\n",
        ")"
      ],
      "execution_count": null,
      "outputs": []
    },
    {
      "cell_type": "code",
      "metadata": {
        "id": "iZqZ1ejixgGe",
        "colab_type": "code",
        "colab": {}
      },
      "source": [
        "train_datafen =ImageDataGenerator(rescale= 1./255,shear_range = 0.2,\n",
        "                                 zoom_range=0.2,\n",
        "                                 horizontal_flip=True)\n",
        "\n",
        "test_datafen =ImageDataGenerator(rescale= 1./255)\n",
        "\n"
      ],
      "execution_count": null,
      "outputs": []
    },
    {
      "cell_type": "code",
      "metadata": {
        "id": "ovy-Bx2jxjR8",
        "colab_type": "code",
        "colab": {
          "base_uri": "https://localhost:8080/",
          "height": 34
        },
        "outputId": "4b78ee02-d47f-4dd8-d1d0-b8cb63bb9077"
      },
      "source": [
        "training_set = train_datafen.flow_from_directory('/content/Datasets/Train',\n",
        "                                                target_size=(224,224),\n",
        "                                                batch_size=32,\n",
        "                                                class_mode='categorical')"
      ],
      "execution_count": null,
      "outputs": [
        {
          "output_type": "stream",
          "text": [
            "Found 64 images belonging to 3 classes.\n"
          ],
          "name": "stdout"
        }
      ]
    },
    {
      "cell_type": "code",
      "metadata": {
        "id": "GhSLXtjIxtNt",
        "colab_type": "code",
        "colab": {
          "base_uri": "https://localhost:8080/",
          "height": 34
        },
        "outputId": "086975f2-3caf-484b-bad8-fa73097b94b6"
      },
      "source": [
        "testing_set = test_datafen.flow_from_directory('/content/Datasets/Test',\n",
        "                                                target_size=(224,224),\n",
        "                                                batch_size=32,\n",
        "                                                class_mode='categorical')"
      ],
      "execution_count": null,
      "outputs": [
        {
          "output_type": "stream",
          "text": [
            "Found 58 images belonging to 3 classes.\n"
          ],
          "name": "stdout"
        }
      ]
    },
    {
      "cell_type": "code",
      "metadata": {
        "id": "xgXrUM_ixy3B",
        "colab_type": "code",
        "colab": {
          "base_uri": "https://localhost:8080/",
          "height": 1000
        },
        "outputId": "d8672543-bebe-4809-e5ff-99ba8a4a47ee"
      },
      "source": [
        "r = model.fit_generator(\n",
        "training_set,\n",
        "validation_data=testing_set,\n",
        "epochs = 50,\n",
        "steps_per_epoch=len(training_set),\n",
        "validation_steps=len(testing_set))"
      ],
      "execution_count": null,
      "outputs": [
        {
          "output_type": "stream",
          "text": [
            "WARNING:tensorflow:From <ipython-input-15-2763e9a815a1>:6: Model.fit_generator (from tensorflow.python.keras.engine.training) is deprecated and will be removed in a future version.\n",
            "Instructions for updating:\n",
            "Please use Model.fit, which supports generators.\n",
            "Epoch 1/50\n",
            "2/2 [==============================] - 2s 931ms/step - loss: 9.0797 - accuracy: 0.2031 - val_loss: 4.9006 - val_accuracy: 0.5172\n",
            "Epoch 2/50\n",
            "2/2 [==============================] - 1s 350ms/step - loss: 4.5113 - accuracy: 0.3281 - val_loss: 10.8842 - val_accuracy: 0.1552\n",
            "Epoch 3/50\n",
            "2/2 [==============================] - 1s 359ms/step - loss: 6.5325 - accuracy: 0.4062 - val_loss: 11.7298 - val_accuracy: 0.3276\n",
            "Epoch 4/50\n",
            "2/2 [==============================] - 1s 345ms/step - loss: 7.2714 - accuracy: 0.3906 - val_loss: 7.5119 - val_accuracy: 0.3448\n",
            "Epoch 5/50\n",
            "2/2 [==============================] - 1s 354ms/step - loss: 4.1235 - accuracy: 0.5312 - val_loss: 2.8960 - val_accuracy: 0.1552\n",
            "Epoch 6/50\n",
            "2/2 [==============================] - 1s 351ms/step - loss: 2.3160 - accuracy: 0.3750 - val_loss: 3.1434 - val_accuracy: 0.5172\n",
            "Epoch 7/50\n",
            "2/2 [==============================] - 1s 352ms/step - loss: 3.7799 - accuracy: 0.4062 - val_loss: 2.0690 - val_accuracy: 0.5000\n",
            "Epoch 8/50\n",
            "2/2 [==============================] - 1s 348ms/step - loss: 3.2012 - accuracy: 0.3750 - val_loss: 2.5830 - val_accuracy: 0.3276\n",
            "Epoch 9/50\n",
            "2/2 [==============================] - 1s 337ms/step - loss: 1.3075 - accuracy: 0.5000 - val_loss: 3.0204 - val_accuracy: 0.1724\n",
            "Epoch 10/50\n",
            "2/2 [==============================] - 1s 346ms/step - loss: 2.2975 - accuracy: 0.5000 - val_loss: 2.0290 - val_accuracy: 0.5517\n",
            "Epoch 11/50\n",
            "2/2 [==============================] - 1s 354ms/step - loss: 1.8104 - accuracy: 0.5312 - val_loss: 1.4199 - val_accuracy: 0.5862\n",
            "Epoch 12/50\n",
            "2/2 [==============================] - 1s 347ms/step - loss: 1.2821 - accuracy: 0.4844 - val_loss: 2.6773 - val_accuracy: 0.3276\n",
            "Epoch 13/50\n",
            "2/2 [==============================] - 1s 351ms/step - loss: 1.3577 - accuracy: 0.4688 - val_loss: 1.7949 - val_accuracy: 0.3448\n",
            "Epoch 14/50\n",
            "2/2 [==============================] - 1s 355ms/step - loss: 1.0419 - accuracy: 0.5625 - val_loss: 1.2129 - val_accuracy: 0.5345\n",
            "Epoch 15/50\n",
            "2/2 [==============================] - 1s 345ms/step - loss: 0.9659 - accuracy: 0.6094 - val_loss: 1.2520 - val_accuracy: 0.5862\n",
            "Epoch 16/50\n",
            "2/2 [==============================] - 1s 352ms/step - loss: 0.7607 - accuracy: 0.6250 - val_loss: 1.5317 - val_accuracy: 0.4828\n",
            "Epoch 17/50\n",
            "2/2 [==============================] - 1s 351ms/step - loss: 0.7353 - accuracy: 0.7031 - val_loss: 1.3467 - val_accuracy: 0.5000\n",
            "Epoch 18/50\n",
            "2/2 [==============================] - 1s 353ms/step - loss: 0.6782 - accuracy: 0.6250 - val_loss: 1.0571 - val_accuracy: 0.6034\n",
            "Epoch 19/50\n",
            "2/2 [==============================] - 1s 350ms/step - loss: 0.6088 - accuracy: 0.7344 - val_loss: 1.0133 - val_accuracy: 0.6207\n",
            "Epoch 20/50\n",
            "2/2 [==============================] - 1s 352ms/step - loss: 0.5030 - accuracy: 0.7656 - val_loss: 1.1234 - val_accuracy: 0.6207\n",
            "Epoch 21/50\n",
            "2/2 [==============================] - 1s 352ms/step - loss: 0.4985 - accuracy: 0.8125 - val_loss: 0.9671 - val_accuracy: 0.6207\n",
            "Epoch 22/50\n",
            "2/2 [==============================] - 1s 348ms/step - loss: 0.5258 - accuracy: 0.7812 - val_loss: 0.9251 - val_accuracy: 0.6034\n",
            "Epoch 23/50\n",
            "2/2 [==============================] - 1s 344ms/step - loss: 0.3575 - accuracy: 0.8281 - val_loss: 0.9745 - val_accuracy: 0.7069\n",
            "Epoch 24/50\n",
            "2/2 [==============================] - 1s 346ms/step - loss: 0.4156 - accuracy: 0.8125 - val_loss: 1.0207 - val_accuracy: 0.6552\n",
            "Epoch 25/50\n",
            "2/2 [==============================] - 1s 350ms/step - loss: 0.4238 - accuracy: 0.8125 - val_loss: 0.9171 - val_accuracy: 0.6897\n",
            "Epoch 26/50\n",
            "2/2 [==============================] - 1s 348ms/step - loss: 0.4445 - accuracy: 0.7656 - val_loss: 0.8839 - val_accuracy: 0.6897\n",
            "Epoch 27/50\n",
            "2/2 [==============================] - 1s 348ms/step - loss: 0.3379 - accuracy: 0.8750 - val_loss: 0.9554 - val_accuracy: 0.6552\n",
            "Epoch 28/50\n",
            "2/2 [==============================] - 1s 353ms/step - loss: 0.4187 - accuracy: 0.8281 - val_loss: 0.8946 - val_accuracy: 0.7241\n",
            "Epoch 29/50\n",
            "2/2 [==============================] - 1s 346ms/step - loss: 0.3876 - accuracy: 0.8125 - val_loss: 0.8631 - val_accuracy: 0.7241\n",
            "Epoch 30/50\n",
            "2/2 [==============================] - 1s 344ms/step - loss: 0.3632 - accuracy: 0.7969 - val_loss: 0.9939 - val_accuracy: 0.6034\n",
            "Epoch 31/50\n",
            "2/2 [==============================] - 1s 359ms/step - loss: 0.3291 - accuracy: 0.8906 - val_loss: 0.8947 - val_accuracy: 0.6897\n",
            "Epoch 32/50\n",
            "2/2 [==============================] - 1s 350ms/step - loss: 0.2882 - accuracy: 0.8281 - val_loss: 0.8622 - val_accuracy: 0.7069\n",
            "Epoch 33/50\n",
            "2/2 [==============================] - 1s 344ms/step - loss: 0.3725 - accuracy: 0.8281 - val_loss: 0.8649 - val_accuracy: 0.7069\n",
            "Epoch 34/50\n",
            "2/2 [==============================] - 1s 355ms/step - loss: 0.3162 - accuracy: 0.8594 - val_loss: 1.0452 - val_accuracy: 0.5862\n",
            "Epoch 35/50\n",
            "2/2 [==============================] - 1s 350ms/step - loss: 0.3045 - accuracy: 0.8906 - val_loss: 0.8340 - val_accuracy: 0.7586\n",
            "Epoch 36/50\n",
            "2/2 [==============================] - 1s 353ms/step - loss: 0.2781 - accuracy: 0.8750 - val_loss: 0.8470 - val_accuracy: 0.7414\n",
            "Epoch 37/50\n",
            "2/2 [==============================] - 1s 349ms/step - loss: 0.3042 - accuracy: 0.8750 - val_loss: 0.9900 - val_accuracy: 0.6379\n",
            "Epoch 38/50\n",
            "2/2 [==============================] - 1s 344ms/step - loss: 0.2603 - accuracy: 0.9219 - val_loss: 0.8727 - val_accuracy: 0.7069\n",
            "Epoch 39/50\n",
            "2/2 [==============================] - 1s 351ms/step - loss: 0.2772 - accuracy: 0.9062 - val_loss: 0.8370 - val_accuracy: 0.7586\n",
            "Epoch 40/50\n",
            "2/2 [==============================] - 1s 350ms/step - loss: 0.2866 - accuracy: 0.9375 - val_loss: 0.8899 - val_accuracy: 0.6897\n",
            "Epoch 41/50\n",
            "2/2 [==============================] - 1s 346ms/step - loss: 0.2442 - accuracy: 0.9375 - val_loss: 0.8425 - val_accuracy: 0.7586\n",
            "Epoch 42/50\n",
            "2/2 [==============================] - 1s 360ms/step - loss: 0.2136 - accuracy: 0.9375 - val_loss: 0.8573 - val_accuracy: 0.7241\n",
            "Epoch 43/50\n",
            "2/2 [==============================] - 1s 349ms/step - loss: 0.3022 - accuracy: 0.8594 - val_loss: 0.8325 - val_accuracy: 0.7586\n",
            "Epoch 44/50\n",
            "2/2 [==============================] - 1s 352ms/step - loss: 0.2426 - accuracy: 0.9531 - val_loss: 0.9147 - val_accuracy: 0.6897\n",
            "Epoch 45/50\n",
            "2/2 [==============================] - 1s 350ms/step - loss: 0.2639 - accuracy: 0.8594 - val_loss: 0.8352 - val_accuracy: 0.7586\n",
            "Epoch 46/50\n",
            "2/2 [==============================] - 1s 344ms/step - loss: 0.2086 - accuracy: 0.9531 - val_loss: 0.8307 - val_accuracy: 0.7759\n",
            "Epoch 47/50\n",
            "2/2 [==============================] - 1s 349ms/step - loss: 0.2123 - accuracy: 0.9531 - val_loss: 0.9658 - val_accuracy: 0.6724\n",
            "Epoch 48/50\n",
            "2/2 [==============================] - 1s 352ms/step - loss: 0.2496 - accuracy: 0.8906 - val_loss: 0.8605 - val_accuracy: 0.7069\n",
            "Epoch 49/50\n",
            "2/2 [==============================] - 1s 349ms/step - loss: 0.2071 - accuracy: 0.9531 - val_loss: 0.8694 - val_accuracy: 0.7414\n",
            "Epoch 50/50\n",
            "2/2 [==============================] - 1s 414ms/step - loss: 0.2950 - accuracy: 0.8750 - val_loss: 0.9005 - val_accuracy: 0.7069\n"
          ],
          "name": "stdout"
        }
      ]
    },
    {
      "cell_type": "code",
      "metadata": {
        "id": "3XAAe4iNx3kZ",
        "colab_type": "code",
        "colab": {
          "base_uri": "https://localhost:8080/",
          "height": 530
        },
        "outputId": "04990d47-91b6-448b-b3ee-5eaed89d234c"
      },
      "source": [
        "plt.plot(r.history['loss'], label='train loss')\n",
        "plt.plot(r.history['val_loss'], label='val loss')\n",
        "plt.legend()\n",
        "plt.show()\n",
        "plt.savefig('LossVal_loss')\n",
        "\n",
        "# plot the accuracy\n",
        "plt.plot(r.history['accuracy'], label='train acc')\n",
        "plt.plot(r.history['val_accuracy'], label='val acc')\n",
        "plt.legend()\n",
        "plt.show()\n",
        "plt.savefig('AccVal_acc')\n"
      ],
      "execution_count": null,
      "outputs": [
        {
          "output_type": "display_data",
          "data": {
            "image/png": "[encoded data removed]",
            "text/plain": [
              "<Figure size 432x288 with 1 Axes>"
            ]
          },
          "metadata": {
            "tags": [],
            "needs_background": "light"
          }
        },
        {
          "output_type": "display_data",
          "data": {
            "image/png": "[encoded data removed]",
            "text/plain": [
              "<Figure size 432x288 with 1 Axes>"
            ]
          },
          "metadata": {
            "tags": [],
            "needs_background": "light"
          }
        },
        {
          "output_type": "display_data",
          "data": {
            "text/plain": [
              "<Figure size 432x288 with 0 Axes>"
            ]
          },
          "metadata": {
            "tags": []
          }
        }
      ]
    },
    {
      "cell_type": "code",
      "metadata": {
        "id": "cl3O-1dizNOO",
        "colab_type": "code",
        "colab": {}
      },
      "source": [
        "from tensorflow.keras.models import load_model\n",
        "\n",
        "model.save(\"transfer_l_resnet.h5\")"
      ],
      "execution_count": null,
      "outputs": []
    },
    {
      "cell_type": "code",
      "metadata": {
        "id": "f9mbyjSp0E4M",
        "colab_type": "code",
        "colab": {}
      },
      "source": [
        "y_pred = model.predict(testing_set)"
      ],
      "execution_count": null,
      "outputs": []
    },
    {
      "cell_type": "code",
      "metadata": {
        "id": "DVS70Qux0iJv",
        "colab_type": "code",
        "colab": {
          "base_uri": "https://localhost:8080/",
          "height": 1000
        },
        "outputId": "510e6d1f-34ec-4c14-a18c-9aba0a65d2ac"
      },
      "source": [
        "y_pred"
      ],
      "execution_count": null,
      "outputs": [
        {
          "output_type": "execute_result",
          "data": {
            "text/plain": [
              "array([[2.72924230e-02, 7.10268319e-01, 2.62439251e-01],\n",
              "       [9.70132928e-03, 8.76747251e-01, 1.13551468e-01],\n",
              "       [5.37673533e-01, 1.41499177e-01, 3.20827365e-01],\n",
              "       [4.60688844e-02, 9.12349299e-03, 9.44807649e-01],\n",
              "       [9.65664625e-01, 1.47668282e-02, 1.95685215e-02],\n",
              "       [5.41934222e-02, 2.79884458e-01, 6.65922105e-01],\n",
              "       [2.89285690e-01, 6.38501287e-01, 7.22130463e-02],\n",
              "       [2.68106032e-02, 1.71443686e-01, 8.01745772e-01],\n",
              "       [3.95931257e-03, 1.81938764e-02, 9.77846861e-01],\n",
              "       [1.79039631e-02, 7.80003071e-01, 2.02092886e-01],\n",
              "       [1.73326163e-03, 5.22669256e-01, 4.75597560e-01],\n",
              "       [2.07072925e-02, 3.25196594e-01, 6.54096127e-01],\n",
              "       [3.21093462e-02, 3.93306136e-01, 5.74584484e-01],\n",
              "       [5.60780525e-01, 1.05747823e-02, 4.28644687e-01],\n",
              "       [2.41996553e-02, 1.54813856e-01, 8.20986509e-01],\n",
              "       [7.18209594e-02, 5.91890980e-03, 9.22260165e-01],\n",
              "       [1.09924786e-01, 8.42846453e-01, 4.72287536e-02],\n",
              "       [4.07590233e-02, 6.16643354e-02, 8.97576690e-01],\n",
              "       [4.45157379e-01, 2.56242216e-01, 2.98600346e-01],\n",
              "       [5.58918919e-06, 4.17012750e-04, 9.99577343e-01],\n",
              "       [3.86899710e-03, 9.77231026e-01, 1.88999418e-02],\n",
              "       [5.10748588e-02, 2.53938767e-03, 9.46385741e-01],\n",
              "       [1.37704506e-03, 9.67477679e-01, 3.11453007e-02],\n",
              "       [8.92910242e-01, 3.57537530e-02, 7.13359416e-02],\n",
              "       [2.13465607e-03, 9.88954067e-01, 8.91131349e-03],\n",
              "       [1.57847181e-02, 6.87322617e-01, 2.96892673e-01],\n",
              "       [6.29521981e-02, 5.77875257e-01, 3.59172583e-01],\n",
              "       [2.64464915e-02, 2.30315156e-04, 9.73323166e-01],\n",
              "       [1.41709335e-02, 9.02342647e-02, 8.95594776e-01],\n",
              "       [1.20823625e-02, 9.85491693e-01, 2.42594769e-03],\n",
              "       [2.41131037e-01, 2.67239541e-01, 4.91629422e-01],\n",
              "       [4.45009805e-02, 7.68932462e-01, 1.86566547e-01],\n",
              "       [1.70000568e-01, 5.30163050e-01, 2.99836397e-01],\n",
              "       [3.72222476e-02, 9.00055468e-01, 6.27222508e-02],\n",
              "       [2.97248274e-01, 4.05277349e-02, 6.62223935e-01],\n",
              "       [2.53791604e-02, 3.65155965e-01, 6.09464884e-01],\n",
              "       [3.55081186e-02, 8.47146630e-01, 1.17345206e-01],\n",
              "       [6.63615584e-01, 2.22465396e-01, 1.13919035e-01],\n",
              "       [1.48623899e-01, 1.68011829e-01, 6.83364272e-01],\n",
              "       [5.55803105e-02, 9.16910544e-03, 9.35250521e-01],\n",
              "       [1.34892568e-01, 5.29935479e-01, 3.35171998e-01],\n",
              "       [1.64289046e-02, 8.81511509e-01, 1.02059595e-01],\n",
              "       [9.07705724e-02, 2.76887804e-01, 6.32341564e-01],\n",
              "       [2.33323835e-02, 4.66816843e-01, 5.09850740e-01],\n",
              "       [1.65334288e-02, 1.21269480e-03, 9.82253850e-01],\n",
              "       [1.80036709e-01, 3.41545433e-01, 4.78417844e-01],\n",
              "       [6.47281930e-02, 5.66613637e-02, 8.78610432e-01],\n",
              "       [5.75249977e-02, 7.22736001e-01, 2.19739005e-01],\n",
              "       [6.54057562e-02, 3.30520034e-01, 6.04074180e-01],\n",
              "       [9.11818445e-03, 9.54211056e-01, 3.66707370e-02],\n",
              "       [6.06876798e-03, 2.08692536e-01, 7.85238683e-01],\n",
              "       [2.02852231e-03, 9.52525496e-01, 4.54459004e-02],\n",
              "       [8.83241773e-01, 5.46406321e-02, 6.21175729e-02],\n",
              "       [1.43160196e-05, 3.95860079e-05, 9.99946117e-01],\n",
              "       [4.79784841e-03, 3.87694299e-01, 6.07507825e-01],\n",
              "       [7.41093874e-01, 2.47410625e-01, 1.14955660e-02],\n",
              "       [1.97370961e-01, 4.19572502e-01, 3.83056581e-01],\n",
              "       [4.50327620e-02, 2.57756442e-01, 6.97210789e-01]], dtype=float32)"
            ]
          },
          "metadata": {
            "tags": []
          },
          "execution_count": 19
        }
      ]
    },
    {
      "cell_type": "code",
      "metadata": {
        "id": "j03HCK-S0kBl",
        "colab_type": "code",
        "colab": {}
      },
      "source": [
        "import numpy as np\n",
        "y_pred = np.argmax(y_pred, axis=1)"
      ],
      "execution_count": null,
      "outputs": []
    },
    {
      "cell_type": "code",
      "metadata": {
        "id": "oUv6Olwt1l3P",
        "colab_type": "code",
        "colab": {
          "base_uri": "https://localhost:8080/",
          "height": 68
        },
        "outputId": "c855faa1-5552-499e-eed6-f33936ed2585"
      },
      "source": [
        "y_pred"
      ],
      "execution_count": null,
      "outputs": [
        {
          "output_type": "execute_result",
          "data": {
            "text/plain": [
              "array([1, 1, 0, 2, 0, 2, 1, 2, 2, 1, 1, 2, 2, 0, 2, 2, 1, 2, 0, 2, 1, 2,\n",
              "       1, 0, 1, 1, 1, 2, 2, 1, 2, 1, 1, 1, 2, 2, 1, 0, 2, 2, 1, 1, 2, 2,\n",
              "       2, 2, 2, 1, 2, 1, 2, 1, 0, 2, 2, 0, 1, 2])"
            ]
          },
          "metadata": {
            "tags": []
          },
          "execution_count": 21
        }
      ]
    },
    {
      "cell_type": "code",
      "metadata": {
        "id": "My-njph_1nma",
        "colab_type": "code",
        "colab": {}
      },
      "source": [
        "model = load_model(\"/content/transfer_l_resnet.h5\")"
      ],
      "execution_count": null,
      "outputs": []
    },
    {
      "cell_type": "code",
      "metadata": {
        "id": "y8rBMVH43H5_",
        "colab_type": "code",
        "colab": {}
      },
      "source": [
        "img = image.load_img('/content/Datasets/Test/lamborghini/11.jpg',target_size=(224,224))"
      ],
      "execution_count": null,
      "outputs": []
    },
    {
      "cell_type": "code",
      "metadata": {
        "id": "zCSEaWD33zPG",
        "colab_type": "code",
        "colab": {
          "base_uri": "https://localhost:8080/",
          "height": 850
        },
        "outputId": "4d001c14-8d17-4e99-a968-1dff737281b3"
      },
      "source": [
        "x = image.img_to_array(img)\n",
        "x"
      ],
      "execution_count": null,
      "outputs": [
        {
          "output_type": "execute_result",
          "data": {
            "text/plain": [
              "array([[[252., 252., 252.],\n",
              "        [252., 252., 252.],\n",
              "        [252., 252., 252.],\n",
              "        ...,\n",
              "        [196., 187., 172.],\n",
              "        [217., 208., 193.],\n",
              "        [243., 234., 219.]],\n",
              "\n",
              "       [[252., 252., 252.],\n",
              "        [252., 252., 252.],\n",
              "        [252., 252., 252.],\n",
              "        ...,\n",
              "        [245., 245., 237.],\n",
              "        [243., 243., 235.],\n",
              "        [242., 242., 234.]],\n",
              "\n",
              "       [[252., 252., 252.],\n",
              "        [252., 252., 252.],\n",
              "        [252., 252., 252.],\n",
              "        ...,\n",
              "        [240., 249., 248.],\n",
              "        [242., 251., 250.],\n",
              "        [242., 251., 250.]],\n",
              "\n",
              "       ...,\n",
              "\n",
              "       [[189., 207., 229.],\n",
              "        [190., 206., 229.],\n",
              "        [190., 206., 229.],\n",
              "        ...,\n",
              "        [171., 180., 187.],\n",
              "        [171., 180., 187.],\n",
              "        [171., 180., 187.]],\n",
              "\n",
              "       [[185., 206., 227.],\n",
              "        [185., 206., 227.],\n",
              "        [185., 206., 227.],\n",
              "        ...,\n",
              "        [171., 180., 187.],\n",
              "        [171., 180., 187.],\n",
              "        [171., 180., 187.]],\n",
              "\n",
              "       [[185., 206., 227.],\n",
              "        [185., 206., 227.],\n",
              "        [185., 206., 227.],\n",
              "        ...,\n",
              "        [171., 180., 187.],\n",
              "        [171., 180., 187.],\n",
              "        [171., 180., 187.]]], dtype=float32)"
            ]
          },
          "metadata": {
            "tags": []
          },
          "execution_count": 24
        }
      ]
    },
    {
      "cell_type": "code",
      "metadata": {
        "id": "2TSIRYqc36LX",
        "colab_type": "code",
        "colab": {
          "base_uri": "https://localhost:8080/",
          "height": 34
        },
        "outputId": "be4c4048-0a1d-42cb-bec1-3053c64e3993"
      },
      "source": [
        "x.shape"
      ],
      "execution_count": null,
      "outputs": [
        {
          "output_type": "execute_result",
          "data": {
            "text/plain": [
              "(224, 224, 3)"
            ]
          },
          "metadata": {
            "tags": []
          },
          "execution_count": 25
        }
      ]
    },
    {
      "cell_type": "code",
      "metadata": {
        "id": "PiAe8y4Q4GOH",
        "colab_type": "code",
        "colab": {}
      },
      "source": [
        "x = x/225"
      ],
      "execution_count": null,
      "outputs": []
    },
    {
      "cell_type": "code",
      "metadata": {
        "id": "M0nJtmpi4IHr",
        "colab_type": "code",
        "colab": {
          "base_uri": "https://localhost:8080/",
          "height": 850
        },
        "outputId": "60874c20-1662-42aa-9b74-ef9c8fa10481"
      },
      "source": [
        "x"
      ],
      "execution_count": null,
      "outputs": [
        {
          "output_type": "execute_result",
          "data": {
            "text/plain": [
              "array([[[1.12      , 1.12      , 1.12      ],\n",
              "        [1.12      , 1.12      , 1.12      ],\n",
              "        [1.12      , 1.12      , 1.12      ],\n",
              "        ...,\n",
              "        [0.8711111 , 0.83111113, 0.7644445 ],\n",
              "        [0.96444446, 0.92444444, 0.8577778 ],\n",
              "        [1.08      , 1.04      , 0.97333336]],\n",
              "\n",
              "       [[1.12      , 1.12      , 1.12      ],\n",
              "        [1.12      , 1.12      , 1.12      ],\n",
              "        [1.12      , 1.12      , 1.12      ],\n",
              "        ...,\n",
              "        [1.0888889 , 1.0888889 , 1.0533333 ],\n",
              "        [1.08      , 1.08      , 1.0444444 ],\n",
              "        [1.0755556 , 1.0755556 , 1.04      ]],\n",
              "\n",
              "       [[1.12      , 1.12      , 1.12      ],\n",
              "        [1.12      , 1.12      , 1.12      ],\n",
              "        [1.12      , 1.12      , 1.12      ],\n",
              "        ...,\n",
              "        [1.0666667 , 1.1066667 , 1.1022222 ],\n",
              "        [1.0755556 , 1.1155555 , 1.1111112 ],\n",
              "        [1.0755556 , 1.1155555 , 1.1111112 ]],\n",
              "\n",
              "       ...,\n",
              "\n",
              "       [[0.84      , 0.92      , 1.0177778 ],\n",
              "        [0.84444445, 0.91555554, 1.0177778 ],\n",
              "        [0.84444445, 0.91555554, 1.0177778 ],\n",
              "        ...,\n",
              "        [0.76      , 0.8       , 0.83111113],\n",
              "        [0.76      , 0.8       , 0.83111113],\n",
              "        [0.76      , 0.8       , 0.83111113]],\n",
              "\n",
              "       [[0.82222223, 0.91555554, 1.0088888 ],\n",
              "        [0.82222223, 0.91555554, 1.0088888 ],\n",
              "        [0.82222223, 0.91555554, 1.0088888 ],\n",
              "        ...,\n",
              "        [0.76      , 0.8       , 0.83111113],\n",
              "        [0.76      , 0.8       , 0.83111113],\n",
              "        [0.76      , 0.8       , 0.83111113]],\n",
              "\n",
              "       [[0.82222223, 0.91555554, 1.0088888 ],\n",
              "        [0.82222223, 0.91555554, 1.0088888 ],\n",
              "        [0.82222223, 0.91555554, 1.0088888 ],\n",
              "        ...,\n",
              "        [0.76      , 0.8       , 0.83111113],\n",
              "        [0.76      , 0.8       , 0.83111113],\n",
              "        [0.76      , 0.8       , 0.83111113]]], dtype=float32)"
            ]
          },
          "metadata": {
            "tags": []
          },
          "execution_count": 27
        }
      ]
    },
    {
      "cell_type": "code",
      "metadata": {
        "id": "MNFZAfP04JC0",
        "colab_type": "code",
        "colab": {
          "base_uri": "https://localhost:8080/",
          "height": 34
        },
        "outputId": "927c1c0c-40ae-4be3-eeea-f0e21771fb92"
      },
      "source": [
        "x = np.expand_dims(x,axis=0)\n",
        "img_data = preprocess_input(x)\n",
        "img_data.shape"
      ],
      "execution_count": null,
      "outputs": [
        {
          "output_type": "execute_result",
          "data": {
            "text/plain": [
              "(1, 224, 224, 3)"
            ]
          },
          "metadata": {
            "tags": []
          },
          "execution_count": 28
        }
      ]
    },
    {
      "cell_type": "code",
      "metadata": {
        "id": "W1dyglJG4kZy",
        "colab_type": "code",
        "colab": {
          "base_uri": "https://localhost:8080/",
          "height": 34
        },
        "outputId": "b97b544d-633c-401a-edbe-fc30fca153f9"
      },
      "source": [
        "model.predict(img_data)"
      ],
      "execution_count": null,
      "outputs": [
        {
          "output_type": "execute_result",
          "data": {
            "text/plain": [
              "array([[1.6861708e-03, 3.4708076e-04, 9.9796677e-01]], dtype=float32)"
            ]
          },
          "metadata": {
            "tags": []
          },
          "execution_count": 29
        }
      ]
    },
    {
      "cell_type": "code",
      "metadata": {
        "id": "DZ3ispuD4rXH",
        "colab_type": "code",
        "colab": {}
      },
      "source": [
        "a = np.argmax(model.predict(img_data),axis=1)"
      ],
      "execution_count": null,
      "outputs": []
    },
    {
      "cell_type": "code",
      "metadata": {
        "id": "yIx8j1z943aR",
        "colab_type": "code",
        "colab": {
          "base_uri": "https://localhost:8080/",
          "height": 34
        },
        "outputId": "d66962c5-6407-425a-ad66-171ce0f56322"
      },
      "source": [
        "a"
      ],
      "execution_count": null,
      "outputs": [
        {
          "output_type": "execute_result",
          "data": {
            "text/plain": [
              "array([2])"
            ]
          },
          "metadata": {
            "tags": []
          },
          "execution_count": 31
        }
      ]
    },
    {
      "cell_type": "code",
      "metadata": {
        "id": "sDCcVBcf445O",
        "colab_type": "code",
        "colab": {
          "base_uri": "https://localhost:8080/",
          "height": 34
        },
        "outputId": "86e38104-bc78-4b37-b1a5-1f6fc013dcd0"
      },
      "source": [
        "a==0"
      ],
      "execution_count": null,
      "outputs": [
        {
          "output_type": "execute_result",
          "data": {
            "text/plain": [
              "array([False])"
            ]
          },
          "metadata": {
            "tags": []
          },
          "execution_count": 34
        }
      ]
    },
    {
      "cell_type": "code",
      "metadata": {
        "id": "nGgK0tEYGXTC",
        "colab_type": "code",
        "colab": {}
      },
      "source": [
        ""
      ],
      "execution_count": null,
      "outputs": []
    }
  ]
}